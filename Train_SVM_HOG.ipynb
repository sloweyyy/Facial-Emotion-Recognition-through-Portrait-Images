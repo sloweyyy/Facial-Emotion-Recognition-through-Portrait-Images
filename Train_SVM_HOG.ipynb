{
 "cells": [
  {
   "cell_type": "code",
   "execution_count": 17,
   "metadata": {},
   "outputs": [],
   "source": [
    "import numpy as np\n",
    "from sklearn import svm\n",
    "from sklearn.neighbors import KNeighborsClassifier\n",
    "from sklearn.model_selection import train_test_split\n",
    "from sklearn.metrics import accuracy_score\n",
    "from skimage import io, color, transform\n",
    "\n",
    "import cv2\n",
    "import numpy as np\n",
    "import os\n",
    "import pandas as pd\n",
    "import re\n",
    "\n",
    "from PIL import Image\n",
    "from sklearn.preprocessing import MinMaxScaler"
   ]
  },
  {
   "cell_type": "markdown",
   "metadata": {},
   "source": [
    "# READ DATA"
   ]
  },
  {
   "cell_type": "code",
   "execution_count": 18,
   "metadata": {},
   "outputs": [],
   "source": [
    "data = pd.read_csv(\"dataset.csv\")"
   ]
  },
  {
   "cell_type": "markdown",
   "metadata": {},
   "source": [
    "# CHECK CLASS IMBALANCE"
   ]
  },
  {
   "cell_type": "code",
   "execution_count": 19,
   "metadata": {},
   "outputs": [
    {
     "name": "stdout",
     "output_type": "stream",
     "text": [
      "label\n",
      "0    2700\n",
      "1    2700\n",
      "2    2700\n",
      "3    2700\n",
      "4    2700\n",
      "Name: count, dtype: int64\n"
     ]
    }
   ],
   "source": [
    "class_counts = data['label'].value_counts()\n",
    "print(class_counts)"
   ]
  },
  {
   "cell_type": "code",
   "execution_count": 20,
   "metadata": {},
   "outputs": [
    {
     "data": {
      "image/png": "[encoded data removed]",
      "text/plain": [
       "<Figure size 640x480 with 1 Axes>"
      ]
     },
     "metadata": {},
     "output_type": "display_data"
    }
   ],
   "source": [
    "import matplotlib.pyplot as plt\n",
    "\n",
    "# Vẽ biểu đồ cân bằng lớp\n",
    "class_counts.plot(kind='bar', title='Class Distribution')\n",
    "plt.show()\n"
   ]
  },
  {
   "cell_type": "code",
   "execution_count": 21,
   "metadata": {},
   "outputs": [
    {
     "name": "stdout",
     "output_type": "stream",
     "text": [
      "label\n",
      "0    0.2\n",
      "1    0.2\n",
      "2    0.2\n",
      "3    0.2\n",
      "4    0.2\n",
      "Name: count, dtype: float64\n"
     ]
    }
   ],
   "source": [
    "total_samples = len(data)\n",
    "class_ratios = class_counts / total_samples\n",
    "print(class_ratios)\n"
   ]
  },
  {
   "cell_type": "markdown",
   "metadata": {},
   "source": [
    "# SPLIT DATA"
   ]
  },
  {
   "cell_type": "code",
   "execution_count": 22,
   "metadata": {},
   "outputs": [],
   "source": [
    "x = data.drop(\"label\", axis=1)\n",
    "y = data['label']"
   ]
  },
  {
   "cell_type": "code",
   "execution_count": 23,
   "metadata": {},
   "outputs": [],
   "source": [
    "# Chia dữ liệu thành tập huấn luyện và tập kiểm tra\n",
    "X_train, X_test, y_train, y_test = train_test_split(x, y, test_size=0.3, random_state=42)\n",
    "X_train, X_test, y_train, y_test = X_train.values, X_test.values, y_train.values, y_test.values"
   ]
  },
  {
   "cell_type": "code",
   "execution_count": 24,
   "metadata": {},
   "outputs": [
    {
     "data": {
      "text/plain": [
       "array([0.11752745, 0.15395251, 0.18610086, 0.02501145, 0.05742914,\n",
       "       0.03776961, 0.01393047, 0.00121678, 0.11672837, 0.15044546,\n",
       "       0.12449515, 0.30063378, 0.30063378, 0.28613222, 0.18573883,\n",
       "       0.08762766, 0.05475968, 0.07078443, 0.30063378, 0.30063378,\n",
       "       0.12222634, 0.02909082, 0.0386255 , 0.03800817, 0.03687454,\n",
       "       0.00198116, 0.30063378, 0.30063378, 0.30063378, 0.13670308,\n",
       "       0.0548537 , 0.04608064, 0.08397551, 0.18104719, 0.06243373,\n",
       "       0.13487596, 0.16108587, 0.1333002 , 0.30425037, 0.30425037,\n",
       "       0.30425037, 0.1988754 , 0.09382522, 0.05863261, 0.07579074,\n",
       "       0.10405816, 0.08047851, 0.05891124, 0.06053625, 0.19249688,\n",
       "       0.09411394, 0.14768709, 0.13436044, 0.19422878, 0.30425037,\n",
       "       0.30425037, 0.14637155, 0.05873329, 0.04933974, 0.08991477,\n",
       "       0.19385194, 0.06684942, 0.1444152 , 0.02326672, 0.0193554 ,\n",
       "       0.04159845, 0.08359527, 0.28991998, 0.30425037, 0.05207871,\n",
       "       0.0249426 , 0.00869099, 0.11458946, 0.08862342, 0.06487341,\n",
       "       0.06666288, 0.21197871, 0.10363883, 0.1626339 , 0.14795852,\n",
       "       0.21388589, 0.23188954, 0.21820195, 0.13054571, 0.2154453 ,\n",
       "       0.27933032, 0.27933032, 0.27933032, 0.13516605, 0.0689831 ,\n",
       "       0.02562145, 0.02131428, 0.04580846, 0.09205561, 0.27933032,\n",
       "       0.27933032, 0.05734939, 0.02746694, 0.00957058, 0.03854614,\n",
       "       0.13452903, 0.23856359, 0.27933032, 0.18059786, 0.09842257,\n",
       "       0.16451119, 0.05063561, 0.01810672, 0.17115291, 0.16105039,\n",
       "       0.09635311, 0.15901576, 0.28075909, 0.24102835, 0.28075909,\n",
       "       0.09976329, 0.05091501, 0.21554588, 0.08518482, 0.08984421,\n",
       "       0.16924793, 0.22766478, 0.02960378, 0.07024293, 0.28075909,\n",
       "       0.12936283, 0.02845012, 0.09929312, 0.17607889, 0.28075909,\n",
       "       0.13329558, 0.07264368, 0.12142233, 0.03737311, 0.0133642 ,\n",
       "       0.28075909, 0.05816999, 0.03505574, 0.05597465, 0.01636768,\n",
       "       0.        , 0.28075909, 0.18417601, 0.28075909, 0.28001711,\n",
       "       0.11066418, 0.11671721, 0.21987113, 0.29576085, 0.03845847,\n",
       "       0.09125306, 0.32096736, 0.16805613, 0.32096736, 0.08744513,\n",
       "       0.00290301, 0.03527407, 0.08870575, 0.00924877, 0.00217746,\n",
       "       0.        , 0.06293514, 0.32096736, 0.07556902, 0.04554115,\n",
       "       0.07271704, 0.02126337, 0.        , 0.32096736, 0.2392643 ,\n",
       "       0.32096736, 0.32096736, 0.02518256, 0.0021733 , 0.        ,\n",
       "       0.08027858, 0.00114613, 0.00217413, 0.03872255, 0.05961297,\n",
       "       0.28583014, 0.28583014, 0.12854336, 0.03059432, 0.04062178,\n",
       "       0.03997254, 0.03878033, 0.00208356, 0.28583014, 0.28583014,\n",
       "       0.28583014, 0.14376829, 0.0576887 , 0.04846222, 0.08831561,\n",
       "       0.19040423, 0.06566049, 0.14184674, 0.28583014, 0.10550654,\n",
       "       0.0099035 , 0.03664509, 0.08891872, 0.10403321, 0.08117117,\n",
       "       0.25889327, 0.28583014, 0.28583014, 0.10632526, 0.06357796,\n",
       "       0.01342365, 0.09132307, 0.00415989, 0.01679561, 0.22589313,\n",
       "       0.22192659, 0.30315797, 0.30315797, 0.16320462, 0.06548775,\n",
       "       0.05501392, 0.10025517, 0.21614536, 0.07453726, 0.16102329,\n",
       "       0.02594245, 0.02158131, 0.04638237, 0.09320892, 0.30315797,\n",
       "       0.30315797, 0.05806788, 0.02781106, 0.00969048, 0.30315797,\n",
       "       0.12069959, 0.07217319, 0.01523843, 0.10366922, 0.00472228,\n",
       "       0.01906624, 0.25643208, 0.25192929, 0.0232713 , 0.20931221,\n",
       "       0.09810264, 0.24531222, 0.30315797, 0.12310955, 0.09885872,\n",
       "       0.09997567, 0.0264783 , 0.02514272, 0.02091602, 0.04495254,\n",
       "       0.09033557, 0.29624383, 0.29624383, 0.05627783, 0.02695373,\n",
       "       0.00939175, 0.03782592, 0.13201539, 0.23410609, 0.29624383,\n",
       "       0.17722343, 0.09658357, 0.16143733, 0.0496895 , 0.0177684 ,\n",
       "       0.02255392, 0.20285975, 0.09507843, 0.23774999, 0.29624383,\n",
       "       0.11931445, 0.0958112 , 0.09689372, 0.02566206, 0.0275581 ,\n",
       "       0.04857472, 0.07031802, 0.29624383, 0.29624383, 0.29624383,\n",
       "       0.16262632, 0.15655196, 0.16579727, 0.03034912, 0.1059208 ,\n",
       "       0.18783192, 0.28570968, 0.14219287, 0.07749255, 0.12952711,\n",
       "       0.03986771, 0.01425624, 0.28570968, 0.06205275, 0.03739566,\n",
       "       0.05971088, 0.0174602 , 0.        , 0.28570968, 0.19646951,\n",
       "       0.28570968, 0.02211087, 0.03897329, 0.05641873, 0.2438511 ,\n",
       "       0.28570968, 0.28570968, 0.13048108, 0.12560739, 0.13302525,\n",
       "       0.28570968, 0.0333495 , 0.02146754, 0.00776628, 0.0648154 ,\n",
       "       0.06488073, 0.10715818, 0.26522843, 0.28570968, 0.323048  ,\n",
       "       0.07833364, 0.04720723, 0.07537732, 0.02204126, 0.        ,\n",
       "       0.323048  , 0.24801755, 0.323048  , 0.323048  , 0.02610384,\n",
       "       0.00225281, 0.        , 0.08321549, 0.00118806, 0.00225367,\n",
       "       0.04013918, 0.06179385, 0.323048  , 0.04209947, 0.02710002,\n",
       "       0.00980393, 0.08182112, 0.08190359, 0.13527345, 0.323048  ,\n",
       "       0.323048  , 0.323048  , 0.17114706, 0.01759108, 0.        ,\n",
       "       0.0151848 , 0.        , 0.0037691 , 0.04135773, 0.10083085,\n",
       "       0.28090938, 0.13522238, 0.01269281, 0.04696616, 0.11396261,\n",
       "       0.13333408, 0.10403296, 0.28090938, 0.28090938, 0.28090938,\n",
       "       0.13627168, 0.08148464, 0.01720442, 0.11704414, 0.00533153,\n",
       "       0.02152608, 0.28090938, 0.28090938, 0.08258244, 0.04081603,\n",
       "       0.03697442, 0.03344352, 0.16847574, 0.14340825, 0.08487251,\n",
       "       0.20867288, 0.28090938, 0.06123345, 0.13432076, 0.03892931,\n",
       "       0.10552794, 0.10483849, 0.15368313, 0.09027839, 0.28090938,\n",
       "       0.28090938, 0.28276543, 0.11564012, 0.06914784, 0.01459966,\n",
       "       0.09932363, 0.00452433, 0.01826703, 0.24568299, 0.24136896,\n",
       "       0.02229582, 0.20053829, 0.09399039, 0.23502926, 0.28276543,\n",
       "       0.11794906, 0.09471477, 0.0957849 , 0.02536839, 0.05196269,\n",
       "       0.11398456, 0.0330354 , 0.08955098, 0.08896592, 0.13041547,\n",
       "       0.07661022, 0.28276543, 0.28276543, 0.22565523, 0.06119327,\n",
       "       0.28276543, 0.28276543, 0.1766415 , 0.28276543, 0.04727479,\n",
       "       0.09791935, 0.0482464 , 0.01794851, 0.16143667, 0.07566383,\n",
       "       0.18920247, 0.26480335, 0.09495096, 0.07624697, 0.07710844,\n",
       "       0.02042198, 0.02193085, 0.03865598, 0.05595938, 0.24186573,\n",
       "       0.26480335, 0.26480335, 0.12941874, 0.12458473, 0.13194219,\n",
       "       0.18165622, 0.0492616 , 0.26480335, 0.26480335, 0.14219935,\n",
       "       0.26480335, 0.038057  , 0.07882671, 0.03883915, 0.12258522,\n",
       "       0.11197595, 0.11926683, 0.26480335, 0.18017025, 0.24274434,\n",
       "       0.26480335, 0.19661275, 0.        , 0.02264417, 0.03991329,\n",
       "       0.05777951, 0.2497326 , 0.26563046, 0.26563046, 0.13362818,\n",
       "       0.12863695, 0.13623372, 0.26563046, 0.03415387, 0.02198532,\n",
       "       0.0079536 , 0.0663787 , 0.0664456 , 0.10974275, 0.26563046,\n",
       "       0.26563046, 0.1265724 , 0.11561806, 0.12314608, 0.26563046,\n",
       "       0.18603044, 0.25063979, 0.26563046, 0.20300774, 0.        ,\n",
       "       0.26563046, 0.15600806, 0.14112584, 0.05200073, 0.05372342,\n",
       "       0.08198524, 0.07668937, 0.02140294, 0.21464532, 0.31431558,\n",
       "       0.05056851, 0.03255166, 0.01177616, 0.09828087, 0.09837993,\n",
       "       0.16248607, 0.31431558, 0.31431558, 0.31431558, 0.20557628,\n",
       "       0.02112983, 0.        , 0.01823949, 0.        , 0.00452732,\n",
       "       0.04967755, 0.12111473, 0.31431558, 0.23098688, 0.20895213,\n",
       "       0.07699273, 0.07954336, 0.12138806, 0.11354694, 0.03168938,\n",
       "       0.31431558, 0.31431558, 0.1784062 , 0.00090968, 0.        ,\n",
       "       0.02575703, 0.        , 0.00091074, 0.08201618, 0.14704944,\n",
       "       0.08836008, 0.04367161, 0.03956123, 0.03578331, 0.18026267,\n",
       "       0.15344141, 0.09081037, 0.22327208, 0.30200257, 0.06551747,\n",
       "       0.14371813, 0.04165289, 0.1129109 , 0.11217322, 0.16443514,\n",
       "       0.09659446, 0.30200257, 0.30200257, 0.01098617, 0.02655582,\n",
       "       0.30200257, 0.17497566, 0.18984899, 0.22397938, 0.10285204,\n",
       "       0.01834104, 0.04978623, 0.27783622, 0.10664079, 0.11781516,\n",
       "       0.02102196, 0.        , 0.01446589, 0.21542257, 0.30200257,\n",
       "       0.21987163, 0.04587046, 0.10062074, 0.02916226, 0.07905182,\n",
       "       0.07853535, 0.11512525, 0.06762826, 0.2605986 , 0.2605986 ,\n",
       "       0.19919888, 0.05401883, 0.2605986 , 0.2605986 , 0.15593164,\n",
       "       0.2605986 , 0.04173219, 0.08643905, 0.04258988, 0.19452026,\n",
       "       0.07466195, 0.08248542, 0.01471801, 0.        , 0.01012794,\n",
       "       0.15082286, 0.2605986 , 0.15393776, 0.1771744 , 0.2605986 ,\n",
       "       0.2605986 , 0.17309688, 0.2605986 , 0.23745765, 0.0634495 ,\n",
       "       0.0608896 , 0.21231819, 0.16193408, 0.04391335, 0.23512882,\n",
       "       0.23512882, 0.12676099, 0.23512882, 0.03392521, 0.07026861,\n",
       "       0.03462245, 0.10927633, 0.09981889, 0.10631821, 0.23512882,\n",
       "       0.16060944, 0.21638995, 0.23512882, 0.17526681, 0.        ,\n",
       "       0.1440298 , 0.22641339, 0.23299169, 0.14071507, 0.23512882,\n",
       "       0.19303566, 0.05157979, 0.04949878, 0.17259912, 0.04095778,\n",
       "       0.00834616, 0.093842  , 0.12585575, 0.23512882, 0.18667117,\n",
       "       0.23512882, 0.23512882, 0.18676056, 0.12177356, 0.11123454,\n",
       "       0.11847714, 0.25849121, 0.17897732, 0.24113709, 0.25849121,\n",
       "       0.19531095, 0.        , 0.25849121, 0.15009321, 0.13577522,\n",
       "       0.05002918, 0.05168656, 0.07887687, 0.07378178, 0.02059148,\n",
       "       0.2065073 , 0.04564186, 0.00930066, 0.10457411, 0.14024907,\n",
       "       0.25849121, 0.20801956, 0.25849121, 0.25849121, 0.20811918,\n",
       "       0.25849121, 0.25849121, 0.19832183, 0.        , 0.01382057,\n",
       "       0.01412988, 0.04766403, 0.07823838, 0.16596718, 0.31688176,\n",
       "       0.2241955 , 0.2028086 , 0.07472902, 0.07720465, 0.11781905,\n",
       "       0.11020847, 0.03075766, 0.30846171, 0.31688176, 0.17316077,\n",
       "       0.00088293, 0.        , 0.02499973, 0.        , 0.00088396,\n",
       "       0.07960477, 0.14272594, 0.31688176, 0.31688176, 0.296235  ,\n",
       "       0.        , 0.02064391, 0.02110592, 0.07119617, 0.11686533,\n",
       "       0.24790659, 0.31688176, 0.16322223, 0.04375226, 0.00140062,\n",
       "       0.00906539, 0.        , 0.00088604, 0.06588071, 0.11729134,\n",
       "       0.0117381 , 0.02837339, 0.33538519, 0.18695159, 0.2028429 ,\n",
       "       0.23930929, 0.10989158, 0.01959636, 0.05319376, 0.29685228,\n",
       "       0.11393965, 0.12587883, 0.02246077, 0.        , 0.01545598,\n",
       "       0.23016683, 0.33538519, 0.23492039, 0.1696951 , 0.1285995 ,\n",
       "       0.07060621, 0.0309546 , 0.05111728, 0.02369804, 0.01615489,\n",
       "       0.01335379, 0.04239712, 0.23827642, 0.01990543, 0.16084902,\n",
       "       0.00591932, 0.03407787, 0.02625485, 0.33538519, 0.33538519,\n",
       "       0.18164166, 0.17772562, 0.06821573, 0.07536373, 0.01344727,\n",
       "       0.        , 0.0092535 , 0.137801  , 0.24681414, 0.14064696,\n",
       "       0.16187738, 0.24681414, 0.24681414, 0.15815191, 0.24681414,\n",
       "       0.21695585, 0.05797135, 0.05563246, 0.19398689, 0.14265622,\n",
       "       0.01191739, 0.0963004 , 0.0035439 , 0.02040244, 0.01571879,\n",
       "       0.24681414, 0.24681414, 0.10874896, 0.22196903, 0.08417993,\n",
       "       0.24681414, 0.24681414, 0.1850198 , 0.21521442, 0.24681414,\n",
       "       0.14769871, 0.16560766, 0.13788145, 0.21674825, 0.22304573,\n",
       "       0.13470822, 0.22941529, 0.18479535, 0.04937795, 0.04738577,\n",
       "       0.1652312 , 0.03920937, 0.00798988, 0.08983607, 0.12048322,\n",
       "       0.23131945, 0.17870254, 0.23131945, 0.23131945, 0.17878812,\n",
       "       0.1890654 , 0.0717015 , 0.22925771, 0.22413906, 0.15759334,\n",
       "       0.18331206, 0.21189152, 0.12580456, 0.14105877, 0.23131945,\n",
       "       0.13636175, 0.23131945, 0.11401003, 0.13524199, 0.17050963,\n",
       "       0.06738903, 0.12582815, 0.09818372, 0.04213037, 0.0085851 ,\n",
       "       0.09652864, 0.12945893, 0.25921135, 0.19201545, 0.25921135,\n",
       "       0.25921135, 0.1921074 , 0.25921135, 0.25921135, 0.18306382,\n",
       "       0.        , 0.01275728, 0.01304279, 0.04399697, 0.07221906,\n",
       "       0.1531984 , 0.25921135, 0.14652037, 0.25921135, 0.1225035 ,\n",
       "       0.14531719, 0.18321218, 0.07240935, 0.13520204, 0.10549817,\n",
       "       0.13096386, 0.10414911, 0.00114457, 0.01082185, 0.02339471,\n",
       "       0.19658921, 0.23763192, 0.21613889, 0.25921135, 0.29465565,\n",
       "       0.29465565, 0.25824024, 0.        , 0.01799614, 0.0183989 ,\n",
       "       0.06206463, 0.10187632, 0.21611038, 0.29465565, 0.14228754,\n",
       "       0.03814065, 0.00122097, 0.00790267, 0.        , 0.00077239,\n",
       "       0.05743093, 0.10224769, 0.18474508, 0.14691866, 0.0016146 ,\n",
       "       0.01526592, 0.03300191, 0.27731992, 0.29465565, 0.29465565,\n",
       "       0.29465565, 0.09220576, 0.02113249, 0.02579107, 0.02682926,\n",
       "       0.12861488, 0.19275857, 0.29465565, 0.14418623, 0.09836565])"
      ]
     },
     "execution_count": 24,
     "metadata": {},
     "output_type": "execute_result"
    }
   ],
   "source": [
    "# Kiểm tra dữ liệu\n",
    "X_train[0]"
   ]
  },
  {
   "cell_type": "code",
   "execution_count": 25,
   "metadata": {},
   "outputs": [
    {
     "data": {
      "text/plain": [
       "(900,)"
      ]
     },
     "execution_count": 25,
     "metadata": {},
     "output_type": "execute_result"
    }
   ],
   "source": [
    "X_train[0].shape"
   ]
  },
  {
   "cell_type": "markdown",
   "metadata": {},
   "source": [
    "# SCALE DATA"
   ]
  },
  {
   "cell_type": "code",
   "execution_count": 26,
   "metadata": {},
   "outputs": [],
   "source": [
    "# Khởi tạo mô hình MinMaxScaler và fit trên tập huấn luyện\n",
    "scaler = MinMaxScaler()\n",
    "X_train_scaled = scaler.fit_transform(X_train)\n",
    "\n",
    "# Sử dụng mô hình đã fit để chuẩn hóa tập kiểm tra\n",
    "X_test_scaled = scaler.transform(X_test)"
   ]
  },
  {
   "cell_type": "markdown",
   "metadata": {},
   "source": [
    "# TRAIN"
   ]
  },
  {
   "cell_type": "code",
   "execution_count": 27,
   "metadata": {},
   "outputs": [
    {
     "name": "stdout",
     "output_type": "stream",
     "text": [
      "Accuracy: 0.5930864197530864\n"
     ]
    }
   ],
   "source": [
    "from sklearn.svm import SVC\n",
    "# Huấn luyện mô hình SVM với các tham số cụ thể\n",
    "svm_model = SVC(C=0.1, gamma=0.1, kernel='linear', probability=True)\n",
    "svm_model.fit(X_train_scaled, y_train)\n",
    "\n",
    "# Dự đoán nhãn trên tập kiểm tra\n",
    "y_pred = svm_model.predict(X_test_scaled)\n",
    "\n",
    "# Đánh giá độ chính xác của mô hình\n",
    "accuracy = accuracy_score(y_test, y_pred)\n",
    "print(f'Accuracy: {accuracy}')"
   ]
  },
  {
   "cell_type": "markdown",
   "metadata": {},
   "source": [
    "# EVALUATE"
   ]
  },
  {
   "cell_type": "code",
   "execution_count": 28,
   "metadata": {},
   "outputs": [
    {
     "name": "stdout",
     "output_type": "stream",
     "text": [
      "+---------+-------------+----------+------------+\n",
      "| Class   |   Precision |   Recall |   F1-Score |\n",
      "+=========+=============+==========+============+\n",
      "| Angry   |      0.5433 |   0.5682 |     0.5554 |\n",
      "+---------+-------------+----------+------------+\n",
      "| Fear    |      0.5397 |   0.5317 |     0.5357 |\n",
      "+---------+-------------+----------+------------+\n",
      "| Happy   |      0.7299 |   0.7491 |     0.7394 |\n",
      "+---------+-------------+----------+------------+\n",
      "| Neutral |      0.6588 |   0.6829 |     0.6707 |\n",
      "+---------+-------------+----------+------------+\n",
      "| Sad     |      0.4777 |   0.4314 |     0.4534 |\n",
      "+---------+-------------+----------+------------+\n",
      "| Overall |      0.5899 |   0.5927 |     0.5909 |\n",
      "+---------+-------------+----------+------------+\n",
      "\n",
      "Accuracy: 0.5931\n"
     ]
    }
   ],
   "source": [
    "from sklearn.metrics import precision_score, recall_score, f1_score, accuracy_score\n",
    "from tabulate import tabulate\n",
    "\n",
    "# Assume y_test and y_pred are already defined\n",
    "\n",
    "# Calculate precision, recall, and f1-score for each class\n",
    "precision = precision_score(y_test, y_pred, average=None)\n",
    "recall = recall_score(y_test, y_pred, average=None)\n",
    "f1 = f1_score(y_test, y_pred, average=None)\n",
    "\n",
    "class_names = ['Angry', 'Fear', 'Happy', 'Neutral', 'Sad']\n",
    "\n",
    "# Calculate overall precision, recall, and f1-score\n",
    "overall_precision = precision.mean()\n",
    "overall_recall = recall.mean()\n",
    "overall_f1 = f1.mean()\n",
    "\n",
    "# Calculate accuracy\n",
    "accuracy = accuracy_score(y_test, y_pred)\n",
    "\n",
    "# Create the table\n",
    "table = []\n",
    "for i in range(len(class_names)):\n",
    "    table.append([class_names[i], f\"{precision[i]:.4f}\", f\"{recall[i]:.4f}\", f\"{f1[i]:.4f}\"])\n",
    "table.append([\"Overall\", f\"{overall_precision:.4f}\", f\"{overall_recall:.4f}\", f\"{overall_f1:.4f}\"])\n",
    "\n",
    "# Print the table\n",
    "print(tabulate(table, headers=[\"Class\", \"Precision\", \"Recall\", \"F1-Score\"], tablefmt=\"grid\"))\n",
    "\n",
    "# Print accuracy\n",
    "print(f\"\\nAccuracy: {accuracy:.4f}\")"
   ]
  },
  {
   "cell_type": "code",
   "execution_count": 29,
   "metadata": {},
   "outputs": [
    {
     "data": {
      "image/png": "[encoded data removed]",
      "text/plain": [
       "<Figure size 640x480 with 1 Axes>"
      ]
     },
     "metadata": {},
     "output_type": "display_data"
    }
   ],
   "source": [
    "# Import necessary libraries\n",
    "from sklearn.preprocessing import label_binarize\n",
    "from sklearn.metrics import roc_curve, auc\n",
    "from sklearn.multiclass import OneVsRestClassifier\n",
    "from itertools import cycle\n",
    "import matplotlib.pyplot as plt\n",
    "\n",
    "# Compute ROC curve and ROC area for each class\n",
    "fpr = dict()\n",
    "tpr = dict()\n",
    "roc_auc = dict()\n",
    "\n",
    "# Get predicted probabilities for each class\n",
    "y_prob = svm_model.predict_proba(X_test_scaled)\n",
    "\n",
    "# Binarize the output labels\n",
    "y_test_bin = label_binarize(y_test, classes=[0, 1, 2, 3, 4])\n",
    "n_classes = y_test_bin.shape[1]\n",
    "\n",
    "for i in range(n_classes):\n",
    "    fpr[i], tpr[i], _ = roc_curve(y_test_bin[:, i], y_prob[:, i])\n",
    "    roc_auc[i] = auc(fpr[i], tpr[i])\n",
    "\n",
    "# Plot ROC curves\n",
    "plt.figure()\n",
    "for i in range(n_classes):\n",
    "    plt.plot(fpr[i], tpr[i], label=f'Class {i} (AUC = {roc_auc[i]:.2f})')\n",
    "\n",
    "plt.plot([0, 1], [0, 1], 'k--')\n",
    "plt.xlim([0.0, 1.0])\n",
    "plt.ylim([0.0, 1.05])\n",
    "plt.xlabel('False Positive Rate')\n",
    "plt.ylabel('True Positive Rate')\n",
    "plt.title('Receiver Operating Characteristic (ROC) for Each Class')\n",
    "plt.legend(loc=\"lower right\")\n",
    "plt.show()"
   ]
  },
  {
   "cell_type": "markdown",
   "metadata": {},
   "source": [
    "# SAVE MODEL"
   ]
  },
  {
   "cell_type": "code",
   "execution_count": 30,
   "metadata": {},
   "outputs": [],
   "source": [
    "import pickle\n",
    "\n",
    "with open('svm_model_with_hog.pkl', 'wb') as f:\n",
    "    pickle.dump(svm_model, f)"
   ]
  },
  {
   "cell_type": "code",
   "execution_count": 31,
   "metadata": {},
   "outputs": [
    {
     "data": {
      "text/plain": [
       "['svm_model_with_hog.h5']"
      ]
     },
     "execution_count": 31,
     "metadata": {},
     "output_type": "execute_result"
    }
   ],
   "source": [
    "from joblib import dump\n",
    "dump(svm_model, 'svm_model_with_hog.h5')"
   ]
  },
  {
   "cell_type": "markdown",
   "metadata": {},
   "source": [
    "# Tune"
   ]
  },
  {
   "cell_type": "code",
   "execution_count": 32,
   "metadata": {},
   "outputs": [],
   "source": [
    "from sklearn.model_selection import GridSearchCV\n",
    "from sklearn.svm import SVC\n",
    "from sklearn.metrics import accuracy_score\n",
    "# Thiết lập các giá trị thử nghiệm cho C, kernel và gamma\n",
    "param_grid = {'C': [0.1, 1, 10, 100, 10000],\n",
    "              'kernel': ['linear', 'rbf'],\n",
    "              'gamma': [0.1, 0.5, 5, 50]}\n",
    "\n",
    "# Tạo mô hình SVM\n",
    "svm_model = SVC()\n",
    "\n",
    "# Sử dụng GridSearchCV để tìm kiếm qua lưới tham số\n",
    "grid_search = GridSearchCV(svm_model, param_grid, cv=5, scoring='accuracy')\n",
    "grid_search.fit(X_train, y_train)\n",
    "\n",
    "# In ra tham số tốt nhất\n",
    "print(\"Best Parameters:\", grid_search.best_params_)\n",
    "\n",
    "# Đánh giá mô hình trên tập kiểm tra\n",
    "y_pred = grid_search.predict(X_test)\n",
    "accuracy = accuracy_score(y_test, y_pred)\n",
    "print(f\"Accuracy: {accuracy}\")"
   ]
  }
 ],
 "metadata": {
  "kernelspec": {
   "display_name": "Python 3",
   "language": "python",
   "name": "python3"
  },
  "language_info": {
   "codemirror_mode": {
    "name": "ipython",
    "version": 3
   },
   "file_extension": ".py",
   "mimetype": "text/x-python",
   "name": "python",
   "nbconvert_exporter": "python",
   "pygments_lexer": "ipython3",
   "version": "3.12.2"
  }
 },
 "nbformat": 4,
 "nbformat_minor": 2
}
