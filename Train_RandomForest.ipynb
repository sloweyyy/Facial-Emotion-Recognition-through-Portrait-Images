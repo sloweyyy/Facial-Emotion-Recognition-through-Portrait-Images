{
  "cells": [
    {
      "cell_type": "code",
      "execution_count": 3,
      "metadata": {
        "id": "VEjHONOEHAuB"
      },
      "outputs": [],
      "source": [
        "import numpy as np\n",
        "from sklearn import svm\n",
        "from sklearn.neighbors import KNeighborsClassifier\n",
        "from sklearn.model_selection import train_test_split\n",
        "from sklearn.metrics import accuracy_score\n",
        "from skimage import io, color, transform\n",
        "\n",
        "import cv2\n",
        "import numpy as np\n",
        "import os\n",
        "import pandas as pd\n",
        "import re\n",
        "\n",
        "from PIL import Image\n",
        "from sklearn.preprocessing import MinMaxScaler"
      ]
    },
    {
      "cell_type": "markdown",
      "metadata": {
        "id": "q0fnmcxpHAuD"
      },
      "source": [
        "# READ DATA"
      ]
    },
    {
      "cell_type": "code",
      "execution_count": 4,
      "metadata": {
        "id": "GfLyHLkSHAuD"
      },
      "outputs": [],
      "source": [
        "data = pd.read_csv(\"dataset_without_hog.csv\")"
      ]
    },
    {
      "cell_type": "markdown",
      "metadata": {
        "id": "7_qczJARHAuE"
      },
      "source": [
        "# CHECK CLASS IMBALANCE"
      ]
    },
    {
      "cell_type": "code",
      "execution_count": 5,
      "metadata": {
        "colab": {
          "base_uri": "https://localhost:8080/"
        },
        "id": "8getFHwiHAuE",
        "outputId": "751eefba-2767-48d2-ef9c-b9afc0849129"
      },
      "outputs": [
        {
          "name": "stdout",
          "output_type": "stream",
          "text": [
            "label\n",
            "0    2700\n",
            "1    2700\n",
            "2    2700\n",
            "3    2700\n",
            "4    2700\n",
            "Name: count, dtype: int64\n"
          ]
        }
      ],
      "source": [
        "class_counts = data['label'].value_counts()\n",
        "print(class_counts)"
      ]
    },
    {
      "cell_type": "code",
      "execution_count": 6,
      "metadata": {
        "colab": {
          "base_uri": "https://localhost:8080/",
          "height": 467
        },
        "id": "deTFddkPHAuE",
        "outputId": "cdf1fe21-9756-4a98-9d00-97ac22bf3ad0"
      },
      "outputs": [
        {
          "data": {
            "image/png": "[encoded data removed]",
            "text/plain": [
              "<Figure size 640x480 with 1 Axes>"
            ]
          },
          "metadata": {},
          "output_type": "display_data"
        }
      ],
      "source": [
        "import matplotlib.pyplot as plt\n",
        "\n",
        "# Vẽ biểu đồ cân bằng lớp\n",
        "class_counts.plot(kind='bar', title='Class Distribution')\n",
        "plt.show()\n"
      ]
    },
    {
      "cell_type": "code",
      "execution_count": 7,
      "metadata": {
        "colab": {
          "base_uri": "https://localhost:8080/"
        },
        "id": "tyDxP2zDHAuE",
        "outputId": "7bad2049-120d-4c8c-95d1-518def903e4f"
      },
      "outputs": [
        {
          "name": "stdout",
          "output_type": "stream",
          "text": [
            "label\n",
            "0    0.2\n",
            "1    0.2\n",
            "2    0.2\n",
            "3    0.2\n",
            "4    0.2\n",
            "Name: count, dtype: float64\n"
          ]
        }
      ],
      "source": [
        "total_samples = len(data)\n",
        "class_ratios = class_counts / total_samples\n",
        "print(class_ratios)"
      ]
    },
    {
      "cell_type": "markdown",
      "metadata": {
        "id": "yL--BylyHAuF"
      },
      "source": [
        "# SPLIT DATA"
      ]
    },
    {
      "cell_type": "code",
      "execution_count": 8,
      "metadata": {
        "id": "B-bP8HIHHAuF"
      },
      "outputs": [],
      "source": [
        "x = data.drop(\"label\", axis=1)\n",
        "y = data['label']"
      ]
    },
    {
      "cell_type": "code",
      "execution_count": 9,
      "metadata": {
        "id": "GIdN1ldYHAuF"
      },
      "outputs": [],
      "source": [
        "X_train, X_test, y_train, y_test = train_test_split(x, y, test_size=0.3, random_state=42)\n",
        "\n",
        "X_train, X_test, y_train, y_test = X_train.values, X_test.values, y_train.values, y_test.values"
      ]
    },
    {
      "cell_type": "code",
      "execution_count": 10,
      "metadata": {
        "colab": {
          "base_uri": "https://localhost:8080/"
        },
        "id": "mqv4YPVuHAuF",
        "outputId": "e3b27158-0036-4af4-f41d-84560bde1b9d"
      },
      "outputs": [
        {
          "data": {
            "text/plain": [
              "array([17, 17, 17, ..., 25, 28, 23])"
            ]
          },
          "execution_count": 10,
          "metadata": {},
          "output_type": "execute_result"
        }
      ],
      "source": [
        "X_train[0]"
      ]
    },
    {
      "cell_type": "markdown",
      "metadata": {
        "id": "CWiLjVb6HAuF"
      },
      "source": [
        "# SCALE DATA"
      ]
    },
    {
      "cell_type": "code",
      "execution_count": 11,
      "metadata": {
        "id": "U3PD1i-EHAuG"
      },
      "outputs": [],
      "source": [
        "# Khởi tạo mô hình MinMaxScaler và fit trên tập huấn luyện\n",
        "scaler = MinMaxScaler()\n",
        "X_train_scaled = scaler.fit_transform(X_train)\n",
        "\n",
        "# Sử dụng mô hình đã fit để chuẩn hóa tập kiểm tra\n",
        "X_test_scaled = scaler.transform(X_test)"
      ]
    },
    {
      "cell_type": "markdown",
      "metadata": {
        "id": "qBAeXfJWHAuG"
      },
      "source": [
        "# TRAIN"
      ]
    },
    {
      "cell_type": "code",
      "execution_count": 18,
      "metadata": {
        "colab": {
          "base_uri": "https://localhost:8080/"
        },
        "id": "ISjHQhZKHAuH",
        "outputId": "98abd192-907e-4492-cc3b-0a802f5d1414"
      },
      "outputs": [
        {
          "name": "stdout",
          "output_type": "stream",
          "text": [
            "Accuracy: 0.5881481481481482\n"
          ]
        }
      ],
      "source": [
        "from sklearn.ensemble import RandomForestClassifier\n",
        "from sklearn.metrics import accuracy_score\n",
        "\n",
        "# Huấn luyện mô hình Random Forest với các tham số cụ thể\n",
        "rf_model = RandomForestClassifier(n_estimators=200, max_depth=15, random_state=42, max_features='sqrt', min_samples_split=5)\n",
        "rf_model.fit(X_train_scaled, y_train)\n",
        "\n",
        "# Dự đoán nhãn trên tập kiểm tra\n",
        "y_pred = rf_model.predict(X_test_scaled)\n",
        "\n",
        "# Đánh giá độ chính xác của mô hình\n",
        "accuracy = accuracy_score(y_test, y_pred)\n",
        "print(f'Accuracy: {accuracy}')"
      ]
    },
    {
      "cell_type": "markdown",
      "metadata": {
        "id": "WHTpYvZqHAuI"
      },
      "source": [
        "# EVALUATE"
      ]
    },
    {
      "cell_type": "code",
      "execution_count": 19,
      "metadata": {
        "colab": {
          "base_uri": "https://localhost:8080/"
        },
        "id": "Gdk0p95fHAuI",
        "outputId": "9fab3050-2995-45f0-862c-53d18f27cd5d"
      },
      "outputs": [
        {
          "name": "stdout",
          "output_type": "stream",
          "text": [
            "+---------+-------------+----------+------------+\n",
            "| Class   |   Precision |   Recall |   F1-Score |\n",
            "+=========+=============+==========+============+\n",
            "| Angry   |      0.5261 |   0.462  |     0.492  |\n",
            "+---------+-------------+----------+------------+\n",
            "| Fear    |      0.5399 |   0.5205 |     0.53   |\n",
            "+---------+-------------+----------+------------+\n",
            "| Happy   |      0.7759 |   0.7653 |     0.7706 |\n",
            "+---------+-------------+----------+------------+\n",
            "| Neutral |      0.6274 |   0.7476 |     0.6822 |\n",
            "+---------+-------------+----------+------------+\n",
            "| Sad     |      0.4544 |   0.4453 |     0.4498 |\n",
            "+---------+-------------+----------+------------+\n",
            "| Overall |      0.5848 |   0.5881 |     0.5849 |\n",
            "+---------+-------------+----------+------------+\n",
            "\n",
            "Accuracy: 0.5881\n"
          ]
        }
      ],
      "source": [
        "from sklearn.metrics import precision_score, recall_score, f1_score, accuracy_score\n",
        "from tabulate import tabulate\n",
        "\n",
        "# Assume y_test and y_pred are already defined\n",
        "\n",
        "# Calculate precision, recall, and f1-score for each class\n",
        "precision = precision_score(y_test, y_pred, average=None)\n",
        "recall = recall_score(y_test, y_pred, average=None)\n",
        "f1 = f1_score(y_test, y_pred, average=None)\n",
        "\n",
        "class_names = ['Angry', 'Fear', 'Happy', 'Neutral', 'Sad']\n",
        "\n",
        "# Calculate overall precision, recall, and f1-score\n",
        "overall_precision = precision.mean()\n",
        "overall_recall = recall.mean()\n",
        "overall_f1 = f1.mean()\n",
        "\n",
        "# Calculate accuracy\n",
        "accuracy = accuracy_score(y_test, y_pred)\n",
        "\n",
        "# Create the table\n",
        "table = []\n",
        "for i in range(len(class_names)):\n",
        "    table.append([class_names[i], f\"{precision[i]:.4f}\", f\"{recall[i]:.4f}\", f\"{f1[i]:.4f}\"])\n",
        "table.append([\"Overall\", f\"{overall_precision:.4f}\", f\"{overall_recall:.4f}\", f\"{overall_f1:.4f}\"])\n",
        "\n",
        "# Print the table\n",
        "print(tabulate(table, headers=[\"Class\", \"Precision\", \"Recall\", \"F1-Score\"], tablefmt=\"grid\"))\n",
        "\n",
        "# Print accuracy\n",
        "print(f\"\\nAccuracy: {accuracy:.4f}\")"
      ]
    },
    {
      "cell_type": "code",
      "execution_count": 20,
      "metadata": {},
      "outputs": [
        {
          "data": {
            "image/png": "[encoded data removed]",
            "text/plain": [
              "<Figure size 640x480 with 1 Axes>"
            ]
          },
          "metadata": {},
          "output_type": "display_data"
        }
      ],
      "source": [
        "from sklearn.metrics import roc_curve, auc\n",
        "from sklearn.preprocessing import label_binarize\n",
        "\n",
        "# Compute predicted probabilities for each class\n",
        "y_prob = rf_model.predict_proba(X_test_scaled)\n",
        "\n",
        "# Binarize the output labels\n",
        "y_test_bin = label_binarize(y_test, classes=[0, 1, 2, 3, 4])\n",
        "n_classes = y_test_bin.shape[1]\n",
        "\n",
        "# Compute ROC curve and ROC area for each class\n",
        "fpr = dict()\n",
        "tpr = dict()\n",
        "roc_auc = dict()\n",
        "\n",
        "for i in range(n_classes):\n",
        "    fpr[i], tpr[i], _ = roc_curve(y_test_bin[:, i], y_prob[:, i])\n",
        "    roc_auc[i] = auc(fpr[i], tpr[i])\n",
        "\n",
        "# Plot ROC curves\n",
        "plt.figure()\n",
        "for i in range(n_classes):\n",
        "    plt.plot(fpr[i], tpr[i], label=f'Class {i} (AUC = {roc_auc[i]:.2f})')\n",
        "\n",
        "plt.plot([0, 1], [0, 1], 'k--')\n",
        "plt.xlim([0.0, 1.0])\n",
        "plt.ylim([0.0, 1.05])\n",
        "plt.xlabel('False Positive Rate')\n",
        "plt.ylabel('True Positive Rate')\n",
        "plt.title('Receiver Operating Characteristic (ROC) for Each Class')\n",
        "plt.legend(loc=\"lower right\")\n",
        "plt.show()"
      ]
    },
    {
      "cell_type": "markdown",
      "metadata": {
        "id": "6iu03dYDHAuI"
      },
      "source": [
        "# SAVE MODEL"
      ]
    },
    {
      "cell_type": "code",
      "execution_count": 21,
      "metadata": {},
      "outputs": [],
      "source": [
        "import pickle\n",
        "\n",
        "with open('rf_model_without_hog.pkl', 'wb') as f:\n",
        "    pickle.dump(rf_model, f)"
      ]
    },
    {
      "cell_type": "code",
      "execution_count": 22,
      "metadata": {
        "colab": {
          "base_uri": "https://localhost:8080/"
        },
        "id": "-WY4ZIoxHAuJ",
        "outputId": "88301d20-9d47-4a9b-81ff-f970a2fffe93"
      },
      "outputs": [
        {
          "data": {
            "text/plain": [
              "['rf_model_without_hog.h5']"
            ]
          },
          "execution_count": 22,
          "metadata": {},
          "output_type": "execute_result"
        }
      ],
      "source": [
        "from joblib import dump\n",
        "dump(rf_model, 'rf_model_without_hog.h5')"
      ]
    },
    {
      "cell_type": "markdown",
      "metadata": {
        "id": "32Z1gE6RHAuJ"
      },
      "source": [
        "# Tune"
      ]
    },
    {
      "cell_type": "code",
      "execution_count": 17,
      "metadata": {
        "colab": {
          "base_uri": "https://localhost:8080/"
        },
        "id": "sGRx_IdAHAuJ",
        "outputId": "9cd70f28-f73a-4d95-f3ff-d0a4ebb41b30"
      },
      "outputs": [
        {
          "name": "stderr",
          "output_type": "stream",
          "text": [
            "/home/mmlab/slowey/venv/lib/python3.12/site-packages/sklearn/model_selection/_validation.py:540: FitFailedWarning: \n",
            "240 fits failed out of a total of 480.\n",
            "The score on these train-test partitions for these parameters will be set to nan.\n",
            "If these failures are not expected, you can try to debug them by setting error_score='raise'.\n",
            "\n",
            "Below are more details about the failures:\n",
            "--------------------------------------------------------------------------------\n",
            "240 fits failed with the following error:\n",
            "Traceback (most recent call last):\n",
            "  File \"/home/mmlab/slowey/venv/lib/python3.12/site-packages/sklearn/model_selection/_validation.py\", line 888, in _fit_and_score\n",
            "    estimator.fit(X_train, y_train, **fit_params)\n",
            "  File \"/home/mmlab/slowey/venv/lib/python3.12/site-packages/sklearn/base.py\", line 1466, in wrapper\n",
            "    estimator._validate_params()\n",
            "  File \"/home/mmlab/slowey/venv/lib/python3.12/site-packages/sklearn/base.py\", line 666, in _validate_params\n",
            "    validate_parameter_constraints(\n",
            "  File \"/home/mmlab/slowey/venv/lib/python3.12/site-packages/sklearn/utils/_param_validation.py\", line 95, in validate_parameter_constraints\n",
            "    raise InvalidParameterError(\n",
            "sklearn.utils._param_validation.InvalidParameterError: The 'max_features' parameter of RandomForestClassifier must be an int in the range [1, inf), a float in the range (0.0, 1.0], a str among {'sqrt', 'log2'} or None. Got 'auto' instead.\n",
            "\n",
            "  warnings.warn(some_fits_failed_message, FitFailedWarning)\n",
            "/home/mmlab/slowey/venv/lib/python3.12/site-packages/sklearn/model_selection/_search.py:1052: UserWarning: One or more of the test scores are non-finite: [       nan        nan        nan        nan        nan        nan\n",
            "        nan        nan        nan        nan        nan        nan\n",
            " 0.35248677 0.38656085 0.39174603 0.39640212 0.35248677 0.38656085\n",
            " 0.39174603 0.39640212 0.35248677 0.38656085 0.39174603 0.39640212\n",
            "        nan        nan        nan        nan        nan        nan\n",
            "        nan        nan        nan        nan        nan        nan\n",
            " 0.44783069 0.48232804 0.48687831 0.49164021 0.44772487 0.48306878\n",
            " 0.48507937 0.49365079 0.44518519 0.48253968 0.48804233 0.49153439\n",
            "        nan        nan        nan        nan        nan        nan\n",
            "        nan        nan        nan        nan        nan        nan\n",
            " 0.46931217 0.54010582 0.55396825 0.5631746  0.48507937 0.5410582\n",
            " 0.5552381  0.56666667 0.47809524 0.54169312 0.55470899 0.56126984\n",
            "        nan        nan        nan        nan        nan        nan\n",
            "        nan        nan        nan        nan        nan        nan\n",
            " 0.46179894 0.54169312 0.56137566 0.57280423 0.4610582  0.5437037\n",
            " 0.56539683 0.57291005 0.47502646 0.54296296 0.5584127  0.56867725]\n",
            "  warnings.warn(\n"
          ]
        },
        {
          "name": "stdout",
          "output_type": "stream",
          "text": [
            "Best Parameters: {'max_depth': 15, 'max_features': 'sqrt', 'min_samples_split': 5, 'n_estimators': 200}\n",
            "Accuracy: 0.5881481481481482\n"
          ]
        }
      ],
      "source": [
        "from sklearn.model_selection import GridSearchCV\n",
        "from sklearn.ensemble import RandomForestClassifier\n",
        "from sklearn.metrics import accuracy_score\n",
        "\n",
        "# Thiết lập các giá trị thử nghiệm cho n_estimators và max_depth\n",
        "param_grid = {'n_estimators': [10, 50, 100, 200],\n",
        "              'max_depth': [2, 5, 10, 15],\n",
        "              'min_samples_split': [2, 5, 10],\n",
        "              'max_features': ['auto', 'sqrt']}\n",
        "\n",
        "# Tạo mô hình Random Forest\n",
        "rf_model = RandomForestClassifier(random_state=42)\n",
        "\n",
        "# Sử dụng GridSearchCV để tìm kiếm qua lưới tham số\n",
        "grid_search = GridSearchCV(rf_model, param_grid, cv=5, scoring='accuracy')\n",
        "grid_search.fit(X_train_scaled, y_train)\n",
        "\n",
        "# In ra tham số tốt nhất\n",
        "print(\"Best Parameters:\", grid_search.best_params_)\n",
        "\n",
        "# Đánh giá mô hình trên tập kiểm tra\n",
        "y_pred = grid_search.predict(X_test_scaled)\n",
        "accuracy = accuracy_score(y_test, y_pred)\n",
        "print(f\"Accuracy: {accuracy}\")"
      ]
    }
  ],
  "metadata": {
    "accelerator": "GPU",
    "colab": {
      "gpuType": "T4",
      "provenance": []
    },
    "kernelspec": {
      "display_name": "Python 3",
      "name": "python3"
    },
    "language_info": {
      "codemirror_mode": {
        "name": "ipython",
        "version": 3
      },
      "file_extension": ".py",
      "mimetype": "text/x-python",
      "name": "python",
      "nbconvert_exporter": "python",
      "pygments_lexer": "ipython3",
      "version": "3.12.2"
    }
  },
  "nbformat": 4,
  "nbformat_minor": 0
}
