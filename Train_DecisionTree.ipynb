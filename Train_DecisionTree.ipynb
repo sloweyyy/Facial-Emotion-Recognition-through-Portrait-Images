{
  "cells": [
    {
      "cell_type": "code",
      "execution_count": 3,
      "metadata": {
        "id": "FV-X_sQ5vxDw"
      },
      "outputs": [],
      "source": [
        "import numpy as np\n",
        "from sklearn import svm\n",
        "from sklearn.neighbors import KNeighborsClassifier\n",
        "from sklearn.model_selection import train_test_split\n",
        "from sklearn.metrics import accuracy_score\n",
        "from skimage import io, color, transform\n",
        "\n",
        "import cv2\n",
        "import numpy as np\n",
        "import os\n",
        "import pandas as pd\n",
        "import re\n",
        "\n",
        "from PIL import Image\n",
        "from sklearn.preprocessing import MinMaxScaler"
      ]
    },
    {
      "cell_type": "markdown",
      "metadata": {
        "id": "0BwWeFQ1vxDx"
      },
      "source": [
        "# READ DATA"
      ]
    },
    {
      "cell_type": "code",
      "execution_count": 4,
      "metadata": {
        "colab": {
          "base_uri": "https://localhost:8080/"
        },
        "id": "gT8ppB-uv6zB",
        "outputId": "3040b735-eb9c-49e1-ccac-953c4c87669e"
      },
      "outputs": [],
      "source": [
        "data = pd.read_csv(\"dataset_without_hog.csv\")"
      ]
    },
    {
      "cell_type": "markdown",
      "metadata": {
        "id": "8g4prdmHvxDz"
      },
      "source": [
        "# CHECK CLASS IMBALANCE\n"
      ]
    },
    {
      "cell_type": "code",
      "execution_count": 5,
      "metadata": {
        "colab": {
          "base_uri": "https://localhost:8080/"
        },
        "id": "crs8RBirvxDz",
        "outputId": "6b4e37b4-2882-4f73-8e18-7fc444063c97"
      },
      "outputs": [
        {
          "name": "stdout",
          "output_type": "stream",
          "text": [
            "label\n",
            "0    2448\n",
            "Name: count, dtype: int64\n"
          ]
        }
      ],
      "source": [
        "class_counts = data['label'].value_counts()\n",
        "print(class_counts)"
      ]
    },
    {
      "cell_type": "code",
      "execution_count": 6,
      "metadata": {
        "colab": {
          "base_uri": "https://localhost:8080/",
          "height": 467
        },
        "id": "S4Xh5Z0OvxD0",
        "outputId": "269f5a73-aa8f-4f79-dafa-ebcd6d53d892"
      },
      "outputs": [
        {
          "data": {
            "image/png": "[encoded data removed]",
            "text/plain": [
              "<Figure size 640x480 with 1 Axes>"
            ]
          },
          "metadata": {},
          "output_type": "display_data"
        }
      ],
      "source": [
        "import matplotlib.pyplot as plt\n",
        "\n",
        "# Vẽ biểu đồ cân bằng lớp\n",
        "class_counts.plot(kind='bar', title='Class Distribution')\n",
        "plt.show()\n"
      ]
    },
    {
      "cell_type": "code",
      "execution_count": 7,
      "metadata": {
        "colab": {
          "base_uri": "https://localhost:8080/"
        },
        "id": "eyGmnJGivxD0",
        "outputId": "177acd7d-2a02-4d2f-b02b-feed1b3d0911"
      },
      "outputs": [
        {
          "name": "stdout",
          "output_type": "stream",
          "text": [
            "label\n",
            "0    1.0\n",
            "Name: count, dtype: float64\n"
          ]
        }
      ],
      "source": [
        "total_samples = len(data)\n",
        "class_ratios = class_counts / total_samples\n",
        "print(class_ratios)\n"
      ]
    },
    {
      "cell_type": "markdown",
      "metadata": {
        "id": "STvHMvmUvxD0"
      },
      "source": [
        "# SPLIT DATA"
      ]
    },
    {
      "cell_type": "code",
      "execution_count": 8,
      "metadata": {
        "id": "7_HAuo7wvxD0"
      },
      "outputs": [],
      "source": [
        "x = data.drop(\"label\", axis=1)\n",
        "y = data['label']\n"
      ]
    },
    {
      "cell_type": "code",
      "execution_count": 9,
      "metadata": {
        "id": "inLvqFNQvxD1"
      },
      "outputs": [],
      "source": [
        "X_train, X_test, y_train, y_test = train_test_split(x, y, test_size=0.3, random_state=42)\n",
        "\n",
        "X_train, X_test, y_train, y_test = X_train.values, X_test.values, y_train.values, y_test.values"
      ]
    },
    {
      "cell_type": "code",
      "execution_count": 10,
      "metadata": {
        "colab": {
          "base_uri": "https://localhost:8080/"
        },
        "id": "0VfM2um-vxD1",
        "outputId": "f012b8a2-bb35-4097-9aea-946398084959"
      },
      "outputs": [
        {
          "data": {
            "text/plain": [
              "array([ 99.,  99.,  99., ..., 133., 131., 118.])"
            ]
          },
          "execution_count": 10,
          "metadata": {},
          "output_type": "execute_result"
        }
      ],
      "source": [
        "X_train[0]"
      ]
    },
    {
      "cell_type": "markdown",
      "metadata": {
        "id": "c0p_58x9vxD1"
      },
      "source": [
        "# SCALE DATA"
      ]
    },
    {
      "cell_type": "code",
      "execution_count": 11,
      "metadata": {
        "id": "EDQLtJUZvxD1"
      },
      "outputs": [],
      "source": [
        "# Khởi tạo mô hình MinMaxScaler và fit trên tập huấn luyện\n",
        "scaler = MinMaxScaler()\n",
        "X_train_scaled = scaler.fit_transform(X_train)\n",
        "\n",
        "# Sử dụng mô hình đã fit để chuẩn hóa tập kiểm tra\n",
        "X_test_scaled = scaler.transform(X_test)"
      ]
    },
    {
      "cell_type": "markdown",
      "metadata": {
        "id": "rYR9eHokvxD2"
      },
      "source": [
        "# TRAIN"
      ]
    },
    {
      "cell_type": "code",
      "execution_count": 12,
      "metadata": {
        "colab": {
          "base_uri": "https://localhost:8080/"
        },
        "id": "QMys8wW3vxD2",
        "outputId": "0e8a7f59-14e5-4007-d227-0fa2a345888b"
      },
      "outputs": [
        {
          "name": "stdout",
          "output_type": "stream",
          "text": [
            "Accuracy: 1.0\n"
          ]
        }
      ],
      "source": [
        "from sklearn.tree import DecisionTreeClassifier\n",
        "from sklearn.metrics import accuracy_score\n",
        "\n",
        "# Huấn luyện mô hình DecisionTree với các tham số cụ thể\n",
        "DecisionTree_model = DecisionTreeClassifier(criterion='gini', splitter='best', max_depth=5, min_samples_split=2, min_samples_leaf=1, min_weight_fraction_leaf=0.0, max_features=None, random_state=42, max_leaf_nodes=None, min_impurity_decrease=0.0, class_weight=None, ccp_alpha=0.0)\n",
        "\n",
        "DecisionTree_model.fit(X_train_scaled, y_train)\n",
        "\n",
        "# Dự đoán nhãn trên tập kiểm tra\n",
        "y_pred = DecisionTree_model.predict(X_test_scaled)\n",
        "\n",
        "# Đánh giá độ chính xác của mô hình\n",
        "accuracy = accuracy_score(y_test, y_pred)\n",
        "print(f'Accuracy: {accuracy}')\n"
      ]
    },
    {
      "cell_type": "markdown",
      "metadata": {
        "id": "_dcdmApOvxD3"
      },
      "source": [
        "# EVALUATE"
      ]
    },
    {
      "cell_type": "code",
      "execution_count": 13,
      "metadata": {
        "colab": {
          "base_uri": "https://localhost:8080/"
        },
        "id": "JUAG3pVMvxD3",
        "outputId": "2f4f6c2a-637c-4af2-e290-38e994bd5e24"
      },
      "outputs": [
        {
          "name": "stdout",
          "output_type": "stream",
          "text": [
            "Accuracy: 1.0\n",
            "\n",
            "Class Angry:\n",
            "  Precision: 1.0000\n",
            "  Recall: 1.0000\n",
            "  F1-Score: 1.0000\n",
            "\n",
            "Class Fear:\n"
          ]
        },
        {
          "ename": "IndexError",
          "evalue": "index 1 is out of bounds for axis 0 with size 1",
          "output_type": "error",
          "traceback": [
            "\u001b[0;31m---------------------------------------------------------------------------\u001b[0m",
            "\u001b[0;31mIndexError\u001b[0m                                Traceback (most recent call last)",
            "Cell \u001b[0;32mIn[13], line 16\u001b[0m\n\u001b[1;32m     14\u001b[0m \u001b[38;5;28;01mfor\u001b[39;00m i \u001b[38;5;129;01min\u001b[39;00m \u001b[38;5;28mrange\u001b[39m(\u001b[38;5;28mlen\u001b[39m(class_names)):\n\u001b[1;32m     15\u001b[0m     \u001b[38;5;28mprint\u001b[39m(\u001b[38;5;124mf\u001b[39m\u001b[38;5;124m\"\u001b[39m\u001b[38;5;124mClass \u001b[39m\u001b[38;5;132;01m{\u001b[39;00mclass_names[i]\u001b[38;5;132;01m}\u001b[39;00m\u001b[38;5;124m:\u001b[39m\u001b[38;5;124m\"\u001b[39m)\n\u001b[0;32m---> 16\u001b[0m     \u001b[38;5;28mprint\u001b[39m(\u001b[38;5;124mf\u001b[39m\u001b[38;5;124m\"\u001b[39m\u001b[38;5;124m  Precision: \u001b[39m\u001b[38;5;132;01m{\u001b[39;00m\u001b[43mprecision\u001b[49m\u001b[43m[\u001b[49m\u001b[43mi\u001b[49m\u001b[43m]\u001b[49m\u001b[38;5;132;01m:\u001b[39;00m\u001b[38;5;124m.4f\u001b[39m\u001b[38;5;132;01m}\u001b[39;00m\u001b[38;5;124m\"\u001b[39m)\n\u001b[1;32m     17\u001b[0m     \u001b[38;5;28mprint\u001b[39m(\u001b[38;5;124mf\u001b[39m\u001b[38;5;124m\"\u001b[39m\u001b[38;5;124m  Recall: \u001b[39m\u001b[38;5;132;01m{\u001b[39;00mrecall[i]\u001b[38;5;132;01m:\u001b[39;00m\u001b[38;5;124m.4f\u001b[39m\u001b[38;5;132;01m}\u001b[39;00m\u001b[38;5;124m\"\u001b[39m)\n\u001b[1;32m     18\u001b[0m     \u001b[38;5;28mprint\u001b[39m(\u001b[38;5;124mf\u001b[39m\u001b[38;5;124m\"\u001b[39m\u001b[38;5;124m  F1-Score: \u001b[39m\u001b[38;5;132;01m{\u001b[39;00mf1[i]\u001b[38;5;132;01m:\u001b[39;00m\u001b[38;5;124m.4f\u001b[39m\u001b[38;5;132;01m}\u001b[39;00m\u001b[38;5;124m\"\u001b[39m)\n",
            "\u001b[0;31mIndexError\u001b[0m: index 1 is out of bounds for axis 0 with size 1"
          ]
        }
      ],
      "source": [
        "from sklearn.metrics import precision_score, recall_score, f1_score\n",
        "\n",
        "# Tính precision, recall, và f1-score cho từng lớp\n",
        "precision = precision_score(y_test, y_pred, average=None)\n",
        "recall = recall_score(y_test, y_pred, average=None)\n",
        "f1 = f1_score(y_test, y_pred, average=None)\n",
        "\n",
        "class_names = ['Angry', 'Fear', 'Happy', 'Neutral', 'Sad']\n",
        "\n",
        "# Đánh giá độ chính xác của mô hình\n",
        "accuracy = accuracy_score(y_test, y_pred)\n",
        "print(f'Accuracy: {accuracy}\\n')\n",
        "\n",
        "for i in range(len(class_names)):\n",
        "    print(f\"Class {class_names[i]}:\")\n",
        "    print(f\"  Precision: {precision[i]:.4f}\")\n",
        "    print(f\"  Recall: {recall[i]:.4f}\")\n",
        "    print(f\"  F1-Score: {f1[i]:.4f}\")\n",
        "    print()\n",
        "    \n",
        "# print onverall precision, recall, f1-score for each class\n",
        "print(f\"Overall:\")\n",
        "print(f\"  Precision: {precision.mean():.4f}\")\n",
        "print(f\"  Recall: {recall.mean():.4f}\")\n",
        "print(f\"  F1-Score: {f1.mean():.4f}\")\n"
      ]
    },
    {
      "cell_type": "markdown",
      "metadata": {
        "id": "8gDC1YnYvxD3"
      },
      "source": [
        "# SAVE MODEL"
      ]
    },
    {
      "cell_type": "code",
      "execution_count": null,
      "metadata": {},
      "outputs": [
        {
          "ename": "",
          "evalue": "",
          "output_type": "error",
          "traceback": [
            "\u001b[1;31mRunning cells with 'venv (Python 3.12.2)' requires the ipykernel package.\n",
            "\u001b[1;31mRun the following command to install 'ipykernel' into the Python environment. \n",
            "\u001b[1;31mCommand: '/home/mmlab/slowey/venv/bin/python -m pip install ipykernel -U --force-reinstall'"
          ]
        }
      ],
      "source": [
        "import pickle\n",
        "\n",
        "with open('dt_model_without_hog.pkl', 'wb') as f:\n",
        "    pickle.dump(DecisionTree_model, f)"
      ]
    },
    {
      "cell_type": "code",
      "execution_count": null,
      "metadata": {
        "colab": {
          "base_uri": "https://localhost:8080/"
        },
        "id": "gnc4Jz_NvxD4",
        "outputId": "b38bf40f-ed0c-4293-9f1e-0605d18732f0"
      },
      "outputs": [
        {
          "ename": "",
          "evalue": "",
          "output_type": "error",
          "traceback": [
            "\u001b[1;31mRunning cells with 'venv (Python 3.12.2)' requires the ipykernel package.\n",
            "\u001b[1;31mRun the following command to install 'ipykernel' into the Python environment. \n",
            "\u001b[1;31mCommand: '/home/mmlab/slowey/venv/bin/python -m pip install ipykernel -U --force-reinstall'"
          ]
        }
      ],
      "source": [
        "from joblib import dump\n",
        "dump(DecisionTree_model, 'dt_model_without_hog.h5')"
      ]
    },
    {
      "cell_type": "markdown",
      "metadata": {
        "id": "-56DmwmZvxD4"
      },
      "source": [
        "# Tune"
      ]
    },
    {
      "cell_type": "code",
      "execution_count": null,
      "metadata": {
        "colab": {
          "base_uri": "https://localhost:8080/"
        },
        "id": "IpHWnXtHvxD4",
        "outputId": "16c9b122-6378-4711-fa65-2ac56288e246"
      },
      "outputs": [
        {
          "ename": "",
          "evalue": "",
          "output_type": "error",
          "traceback": [
            "\u001b[1;31mRunning cells with 'venv (Python 3.12.2)' requires the ipykernel package.\n",
            "\u001b[1;31mRun the following command to install 'ipykernel' into the Python environment. \n",
            "\u001b[1;31mCommand: '/home/mmlab/slowey/venv/bin/python -m pip install ipykernel -U --force-reinstall'"
          ]
        }
      ],
      "source": [
        "from sklearn.model_selection import GridSearchCV\n",
        "from sklearn.tree import DecisionTreeClassifier\n",
        "from sklearn.metrics import accuracy_score\n",
        "\n",
        "# Thiết lập các giá trị thử nghiệm cho các tham số\n",
        "param_grid = {\n",
        "    'criterion': ['gini', 'entropy'],\n",
        "    'max_depth': [None, 2, 5, 10, 20],\n",
        "    'min_samples_split': [2, 5, 10],\n",
        "    'min_samples_leaf': [1, 2, 5]\n",
        "}\n",
        "\n",
        "# Tạo mô hình Decision Tree\n",
        "dt_model = DecisionTreeClassifier()\n",
        "\n",
        "# Sử dụng GridSearchCV để tìm kiếm qua lưới tham số\n",
        "grid_search = GridSearchCV(dt_model, param_grid, cv=5, scoring='accuracy')\n",
        "grid_search.fit(X_train_scaled, y_train)\n",
        "\n",
        "# In ra tham số tốt nhất\n",
        "print(\"Best Parameters:\", grid_search.best_params_)\n",
        "\n",
        "# Đánh giá mô hình trên tập kiểm tra\n",
        "y_pred = grid_search.predict(X_test_scaled)\n",
        "accuracy = accuracy_score(y_test, y_pred)\n",
        "print(f\"Accuracy: {accuracy}\")\n",
        "\n"
      ]
    }
  ],
  "metadata": {
    "colab": {
      "provenance": []
    },
    "kernelspec": {
      "display_name": "Python 3",
      "language": "python",
      "name": "python3"
    },
    "language_info": {
      "codemirror_mode": {
        "name": "ipython",
        "version": 3
      },
      "file_extension": ".py",
      "mimetype": "text/x-python",
      "name": "python",
      "nbconvert_exporter": "python",
      "pygments_lexer": "ipython3",
      "version": "3.12.2"
    }
  },
  "nbformat": 4,
  "nbformat_minor": 0
}
