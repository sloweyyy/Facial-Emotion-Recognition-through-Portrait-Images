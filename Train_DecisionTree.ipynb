{
  "cells": [
    {
      "cell_type": "code",
      "execution_count": 24,
      "metadata": {
        "id": "FV-X_sQ5vxDw"
      },
      "outputs": [],
      "source": [
        "import numpy as np\n",
        "from sklearn import svm\n",
        "from sklearn.neighbors import KNeighborsClassifier\n",
        "from sklearn.model_selection import train_test_split\n",
        "from sklearn.metrics import accuracy_score\n",
        "from skimage import io, color, transform\n",
        "\n",
        "import cv2\n",
        "import numpy as np\n",
        "import os\n",
        "import pandas as pd\n",
        "import re\n",
        "\n",
        "from PIL import Image\n",
        "from sklearn.preprocessing import MinMaxScaler"
      ]
    },
    {
      "cell_type": "markdown",
      "metadata": {
        "id": "0BwWeFQ1vxDx"
      },
      "source": [
        "# READ DATA"
      ]
    },
    {
      "cell_type": "code",
      "execution_count": 25,
      "metadata": {
        "colab": {
          "base_uri": "https://localhost:8080/"
        },
        "id": "gT8ppB-uv6zB",
        "outputId": "3040b735-eb9c-49e1-ccac-953c4c87669e"
      },
      "outputs": [],
      "source": [
        "data = pd.read_csv(\"dataset.csv\")"
      ]
    },
    {
      "cell_type": "markdown",
      "metadata": {
        "id": "8g4prdmHvxDz"
      },
      "source": [
        "# CHECK CLASS IMBALANCE\n"
      ]
    },
    {
      "cell_type": "code",
      "execution_count": 26,
      "metadata": {
        "colab": {
          "base_uri": "https://localhost:8080/"
        },
        "id": "crs8RBirvxDz",
        "outputId": "6b4e37b4-2882-4f73-8e18-7fc444063c97"
      },
      "outputs": [
        {
          "name": "stdout",
          "output_type": "stream",
          "text": [
            "label\n",
            "0    2700\n",
            "1    2700\n",
            "2    2700\n",
            "3    2700\n",
            "4    2700\n",
            "Name: count, dtype: int64\n"
          ]
        }
      ],
      "source": [
        "class_counts = data['label'].value_counts()\n",
        "print(class_counts)"
      ]
    },
    {
      "cell_type": "code",
      "execution_count": 27,
      "metadata": {
        "colab": {
          "base_uri": "https://localhost:8080/",
          "height": 467
        },
        "id": "S4Xh5Z0OvxD0",
        "outputId": "269f5a73-aa8f-4f79-dafa-ebcd6d53d892"
      },
      "outputs": [
        {
          "data": {
            "image/png": "[encoded data removed]",
            "text/plain": [
              "<Figure size 640x480 with 1 Axes>"
            ]
          },
          "metadata": {},
          "output_type": "display_data"
        }
      ],
      "source": [
        "import matplotlib.pyplot as plt\n",
        "\n",
        "# Vẽ biểu đồ cân bằng lớp\n",
        "class_counts.plot(kind='bar', title='Class Distribution')\n",
        "plt.show()\n"
      ]
    },
    {
      "cell_type": "code",
      "execution_count": 28,
      "metadata": {
        "colab": {
          "base_uri": "https://localhost:8080/"
        },
        "id": "eyGmnJGivxD0",
        "outputId": "177acd7d-2a02-4d2f-b02b-feed1b3d0911"
      },
      "outputs": [
        {
          "name": "stdout",
          "output_type": "stream",
          "text": [
            "label\n",
            "0    0.2\n",
            "1    0.2\n",
            "2    0.2\n",
            "3    0.2\n",
            "4    0.2\n",
            "Name: count, dtype: float64\n"
          ]
        }
      ],
      "source": [
        "total_samples = len(data)\n",
        "class_ratios = class_counts / total_samples\n",
        "print(class_ratios)\n"
      ]
    },
    {
      "cell_type": "markdown",
      "metadata": {
        "id": "STvHMvmUvxD0"
      },
      "source": [
        "# SPLIT DATA"
      ]
    },
    {
      "cell_type": "code",
      "execution_count": 29,
      "metadata": {
        "id": "7_HAuo7wvxD0"
      },
      "outputs": [],
      "source": [
        "x = data.drop(\"label\", axis=1)\n",
        "y = data['label']\n"
      ]
    },
    {
      "cell_type": "code",
      "execution_count": 30,
      "metadata": {
        "id": "inLvqFNQvxD1"
      },
      "outputs": [],
      "source": [
        "X_train, X_test, y_train, y_test = train_test_split(x, y, test_size=0.3, random_state=42)\n",
        "\n",
        "X_train, X_test, y_train, y_test = X_train.values, X_test.values, y_train.values, y_test.values"
      ]
    },
    {
      "cell_type": "code",
      "execution_count": 31,
      "metadata": {
        "colab": {
          "base_uri": "https://localhost:8080/"
        },
        "id": "0VfM2um-vxD1",
        "outputId": "f012b8a2-bb35-4097-9aea-946398084959"
      },
      "outputs": [
        {
          "data": {
            "text/plain": [
              "array([0.31425257, 0.31425257, 0.29641929, 0.05224288, 0.15826826,\n",
              "       0.06023148, 0.05964687, 0.05480279, 0.11045386, 0.31425257,\n",
              "       0.31425257, 0.02184068, 0.01556617, 0.018835  , 0.00517374,\n",
              "       0.00317036, 0.00247582, 0.10946415, 0.31425257, 0.15731166,\n",
              "       0.09197295, 0.07210505, 0.19820878, 0.01357167, 0.10191999,\n",
              "       0.10195651, 0.31425257, 0.19774172, 0.07698548, 0.10440363,\n",
              "       0.1732285 , 0.24812958, 0.0860146 , 0.03580294, 0.02004724,\n",
              "       0.03308784, 0.31740367, 0.31740367, 0.04602634, 0.03280364,\n",
              "       0.03969228, 0.01090298, 0.00668111, 0.00521746, 0.23068124,\n",
              "       0.06727892, 0.021512  , 0.01680114, 0.0520908 , 0.05638642,\n",
              "       0.01462322, 0.0662799 , 0.02517008, 0.05827512, 0.31740367,\n",
              "       0.16223673, 0.22001687, 0.31740367, 0.31740367, 0.1812644 ,\n",
              "       0.07544998, 0.04224692, 0.06972825, 0.09205598, 0.02152031,\n",
              "       0.08020324, 0.15279645, 0.14577436, 0.29729542, 0.31740367,\n",
              "       0.14980867, 0.1638156 , 0.08692084, 0.02779238, 0.02170619,\n",
              "       0.06729858, 0.07284831, 0.01889244, 0.08563017, 0.03251843,\n",
              "       0.07528841, 0.30088401, 0.02867119, 0.03803832, 0.00619522,\n",
              "       0.0137372 , 0.1057842 , 0.0868953 , 0.07710975, 0.19068801,\n",
              "       0.11893151, 0.02780312, 0.10361839, 0.19740502, 0.18833285,\n",
              "       0.30846954, 0.30846954, 0.19354497, 0.21164119, 0.0483151 ,\n",
              "       0.25121426, 0.30846954, 0.30846954, 0.30846954, 0.12899731,\n",
              "       0.26146286, 0.06420812, 0.0139152 , 0.19266897, 0.01835939,\n",
              "       0.02435757, 0.00396707, 0.00879652, 0.06773818, 0.0556428 ,\n",
              "       0.04937669, 0.12210574, 0.30255033, 0.08647933, 0.02138959,\n",
              "       0.00859663, 0.02345838, 0.00509582, 0.01906301, 0.30255033,\n",
              "       0.30255033, 0.03093824, 0.1608633 , 0.30255033, 0.30255033,\n",
              "       0.2983712 , 0.08260253, 0.16742591, 0.04111522, 0.0089105 ,\n",
              "       0.30255033, 0.0708106 , 0.02504901, 0.06357926, 0.15940156,\n",
              "       0.14348822, 0.20628974, 0.28167187, 0.22043735, 0.27171319,\n",
              "       0.06130618, 0.01516332, 0.00609425, 0.01662991, 0.00361248,\n",
              "       0.01351398, 0.27171319, 0.25985764, 0.27171319, 0.14295435,\n",
              "       0.04888714, 0.01871663, 0.08539439, 0.12800186, 0.17356414,\n",
              "       0.16253745, 0.27171319, 0.27171319, 0.05019844, 0.01775753,\n",
              "       0.04507206, 0.11300158, 0.10172043, 0.14624115, 0.1996804 ,\n",
              "       0.15627055, 0.27171319, 0.14826003, 0.0396305 , 0.12382781,\n",
              "       0.27171319, 0.06313205, 0.05995825, 0.27171319, 0.27171319,\n",
              "       0.3136126 , 0.14677015, 0.08580981, 0.06727326, 0.18492674,\n",
              "       0.01266223, 0.09509029, 0.09512437, 0.3136126 , 0.18449097,\n",
              "       0.07182665, 0.09740751, 0.1616204 , 0.23150233, 0.08025073,\n",
              "       0.03340378, 0.01870387, 0.03087061, 0.23417972, 0.19685856,\n",
              "       0.23601463, 0.03636688, 0.26615971, 0.06401922, 0.18612617,\n",
              "       0.18839659, 0.3136126 , 0.05616076, 0.10397138, 0.04507797,\n",
              "       0.11273526, 0.24085812, 0.16161774, 0.06451546, 0.09392512,\n",
              "       0.24553482, 0.24212875, 0.11303327, 0.15328974, 0.24212875,\n",
              "       0.24212875, 0.12629019, 0.05256737, 0.02943419, 0.04858094,\n",
              "       0.06413707, 0.01499359, 0.05587905, 0.10645606, 0.10156364,\n",
              "       0.2071311 , 0.24212875, 0.10437442, 0.1141333 , 0.08837993,\n",
              "       0.16361928, 0.07093899, 0.17741095, 0.24212875, 0.24212875,\n",
              "       0.10152767, 0.14780952, 0.24212875, 0.24212875, 0.24212875,\n",
              "       0.24212875, 0.13925021, 0.24105112, 0.03161625, 0.13416445,\n",
              "       0.03498115, 0.24212875, 0.06072697, 0.0141964 , 0.05290802,\n",
              "       0.1007959 , 0.09616361, 0.19611817, 0.2541741 , 0.09882494,\n",
              "       0.10806496, 0.02466991, 0.12827115, 0.2541741 , 0.2541741 ,\n",
              "       0.23791888, 0.06586661, 0.13350413, 0.03278496, 0.00710516,\n",
              "       0.23704414, 0.2541741 , 0.2541741 , 0.13184643, 0.2282347 ,\n",
              "       0.02993525, 0.12703107, 0.03312124, 0.2541741 , 0.11469464,\n",
              "       0.06621461, 0.0623762 , 0.11378233, 0.2541741 , 0.2541741 ,\n",
              "       0.17252983, 0.17891073, 0.24548023, 0.02269238, 0.11798896,\n",
              "       0.25815117, 0.26561336, 0.21884736, 0.06058676, 0.12280247,\n",
              "       0.03015693, 0.00653562, 0.26561336, 0.05193769, 0.01837279,\n",
              "       0.0466337 , 0.11691682, 0.1052448 , 0.15130805, 0.20659885,\n",
              "       0.16168495, 0.10550074, 0.06090686, 0.05737614, 0.10466156,\n",
              "       0.26561336, 0.26561336, 0.15869988, 0.16456928, 0.22580259,\n",
              "       0.26561336, 0.06522291, 0.06058741, 0.10637461, 0.086002  ,\n",
              "       0.26561336, 0.09935156, 0.25874074, 0.26561336, 0.2470485 ,\n",
              "       0.04485887, 0.01586868, 0.04027778, 0.10098169, 0.09090051,\n",
              "       0.13068559, 0.17844055, 0.13964817, 0.2470485 , 0.13248973,\n",
              "       0.03541503, 0.11065634, 0.24687167, 0.05641674, 0.05358054,\n",
              "       0.2470485 , 0.2470485 , 0.2470485 , 0.05633338, 0.05232968,\n",
              "       0.09187633, 0.0742804 , 0.2470485 , 0.08581049, 0.22347579,\n",
              "       0.2470485 , 0.2470485 , 0.12406848, 0.2051857 , 0.11826983,\n",
              "       0.23585113, 0.14702108, 0.09350937, 0.16504844, 0.2470485 ,\n",
              "       0.22899198, 0.19249759, 0.23078625, 0.03556125, 0.26026352,\n",
              "       0.06260102, 0.18200295, 0.18422308, 0.27065073, 0.05491664,\n",
              "       0.10166812, 0.04407936, 0.11023786, 0.23552244, 0.15803746,\n",
              "       0.06308626, 0.09184441, 0.24009554, 0.25105386, 0.16350127,\n",
              "       0.07087627, 0.07811309, 0.22967699, 0.16278869, 0.27065073,\n",
              "       0.27065073, 0.27065073, 0.11917224, 0.09961918, 0.08711871,\n",
              "       0.02773269, 0.03809767, 0.01985487, 0.06257511, 0.08128287,\n",
              "       0.14597296, 0.08606621, 0.15933586, 0.06908186, 0.17276648,\n",
              "       0.23242052, 0.23242052, 0.09886976, 0.14393998, 0.23242052,\n",
              "       0.23242052, 0.23242052, 0.23242052, 0.13560475, 0.23242052,\n",
              "       0.03078856, 0.13065213, 0.03406537, 0.23242052, 0.18676857,\n",
              "       0.15612472, 0.13653378, 0.04346311, 0.05970725, 0.03111687,\n",
              "       0.09806867, 0.12738777, 0.22877107, 0.15403997, 0.1392596 ,\n",
              "       0.23242052, 0.19672861, 0.23242052, 0.23242052, 0.07325399,\n",
              "       0.14021684, 0.03094855, 0.21246838, 0.23738698, 0.23738698,\n",
              "       0.11817713, 0.20457226, 0.02683169, 0.11386101, 0.02968737,\n",
              "       0.23738698, 0.10280357, 0.05934975, 0.05590929, 0.10198584,\n",
              "       0.23738698, 0.23738698, 0.15464265, 0.160362  , 0.22002985,\n",
              "       0.13424309, 0.12136227, 0.23738698, 0.17144549, 0.23738698,\n",
              "       0.23011241, 0.06383956, 0.12219649, 0.02697111, 0.01064736,\n",
              "       0.0702905 , 0.0611019 , 0.07267953, 0.13505933, 0.23738698,\n",
              "       0.23738698, 0.23738698, 0.16777266, 0.11158892, 0.06442164,\n",
              "       0.06068716, 0.11070131, 0.26158137, 0.26158137, 0.16785804,\n",
              "       0.17406615, 0.23883308, 0.26158137, 0.06898675, 0.06408375,\n",
              "       0.11251321, 0.09096496, 0.26158137, 0.10508489, 0.26158137,\n",
              "       0.26158137, 0.01155725, 0.07629736, 0.06632352, 0.07889055,\n",
              "       0.14660118, 0.26158137, 0.26158137, 0.26158137, 0.18211012,\n",
              "       0.26158137, 0.16079073, 0.07090229, 0.04490343, 0.01347317,\n",
              "       0.0135395 , 0.03621802, 0.05728193, 0.13328325, 0.2487921 ,\n",
              "       0.05431173, 0.0504517 , 0.08857913, 0.07161467, 0.26274476,\n",
              "       0.08273098, 0.21545584, 0.26274476, 0.26274476, 0.11961599,\n",
              "       0.19782212, 0.11402544, 0.22738706, 0.14174488, 0.09015356,\n",
              "       0.15912529, 0.26274476, 0.26274476, 0.12658694, 0.05581979,\n",
              "       0.03535146, 0.01060712, 0.01065935, 0.02851363, 0.04509678,\n",
              "       0.10493092, 0.26274476, 0.26274476, 0.09331924, 0.0899067 ,\n",
              "       0.26274476, 0.09918475, 0.1100173 , 0.01260217, 0.26274476,\n",
              "       0.25295928, 0.18891119, 0.08189124, 0.09025273, 0.25295928,\n",
              "       0.18808787, 0.25295928, 0.25295928, 0.25295928, 0.13769293,\n",
              "       0.11510112, 0.10065793, 0.03204266, 0.04401847, 0.02294054,\n",
              "       0.07229998, 0.09391514, 0.16865878, 0.14785407, 0.10466303,\n",
              "       0.19126748, 0.25295928, 0.25295928, 0.16743357, 0.03942827,\n",
              "       0.11007743, 0.1898617 , 0.25295928, 0.0928281 , 0.07641153,\n",
              "       0.14981713, 0.08243312, 0.02333221, 0.19383418, 0.23640853,\n",
              "       0.1702952 , 0.18071986, 0.15106844, 0.13211198, 0.0420555 ,\n",
              "       0.05777356, 0.03010911, 0.09489261, 0.12326217, 0.22136206,\n",
              "       0.1490512 , 0.13474952, 0.23414389, 0.19035732, 0.23414389,\n",
              "       0.23414389, 0.07088158, 0.13567576, 0.02994625, 0.23414389,\n",
              "       0.12183545, 0.10028896, 0.19663268, 0.1081922 , 0.03062316,\n",
              "       0.23414389, 0.23414389, 0.22350983, 0.07873709, 0.1616129 ,\n",
              "       0.09300697, 0.23414389, 0.23414389, 0.23414389, 0.14668715,\n",
              "       0.1663559 , 0.19281573, 0.14225519, 0.12860559, 0.22772529,\n",
              "       0.18167795, 0.22772529, 0.22772529, 0.06764972, 0.1294896 ,\n",
              "       0.02858084, 0.01128283, 0.07448568, 0.06474867, 0.0770173 ,\n",
              "       0.14312014, 0.22772529, 0.22772529, 0.22772529, 0.17778592,\n",
              "       0.07514706, 0.15424414, 0.0887663 , 0.22584657, 0.22772529,\n",
              "       0.22772529, 0.13999893, 0.15877087, 0.18402426, 0.17385645,\n",
              "       0.22772529, 0.13858362, 0.17770275, 0.19713722, 0.08087084,\n",
              "       0.14757059, 0.17506962, 0.16613154, 0.01268223, 0.0837241 ,\n",
              "       0.07277941, 0.08656971, 0.16087125, 0.25928146, 0.25928146,\n",
              "       0.25928146, 0.1998366 , 0.25928146, 0.17644199, 0.07780388,\n",
              "       0.0492743 , 0.01478464, 0.01485743, 0.03974346, 0.06285772,\n",
              "       0.14625696, 0.19541976, 0.25928146, 0.15577207, 0.19974312,\n",
              "       0.22158804, 0.09090121, 0.16587368, 0.1967834 , 0.18673674,\n",
              "       0.25928146, 0.25928146, 0.17615513, 0.11608706, 0.04747976,\n",
              "       0.11802977, 0.08856427, 0.11573092, 0.18414233, 0.27027623,\n",
              "       0.1300735 , 0.05735722, 0.03632514, 0.01089927, 0.01095293,\n",
              "       0.02929898, 0.04633887, 0.10782101, 0.27027623, 0.27027623,\n",
              "       0.09588952, 0.09238298, 0.27027623, 0.10191658, 0.11304748,\n",
              "       0.01294927, 0.27027623, 0.27027623, 0.27027623, 0.12986202,\n",
              "       0.08557968, 0.0350022 , 0.08701185, 0.06528981, 0.08531714,\n",
              "       0.1357502 , 0.07100489, 0.11836846, 0.16826403, 0.1023227 ,\n",
              "       0.27027623, 0.27027623, 0.25164785, 0.26758942, 0.09682098,\n",
              "       0.12240336, 0.08664697, 0.15834384, 0.25066849, 0.26895706,\n",
              "       0.13861256, 0.03264132, 0.09112936, 0.15718005, 0.26895706,\n",
              "       0.07684922, 0.06325851, 0.12402851, 0.06824357, 0.01931594,\n",
              "       0.16046872, 0.19571459, 0.14098161, 0.26474242, 0.2466125 ,\n",
              "       0.26895706, 0.26895706, 0.26895706, 0.06678058, 0.01262135,\n",
              "       0.07080627, 0.13398998, 0.26895706, 0.09214561, 0.06591907,\n",
              "       0.03418434, 0.09999445, 0.08234606, 0.19697986, 0.06557984,\n",
              "       0.23591625, 0.27294956, 0.10367003, 0.08533608, 0.16731515,\n",
              "       0.09206096, 0.02605731, 0.2164732 , 0.26402007, 0.19018497,\n",
              "       0.06699755, 0.13751675, 0.07913982, 0.20135408, 0.27294956,\n",
              "       0.23390782, 0.1248164 , 0.14155257, 0.1640673 , 0.27294956,\n",
              "       0.12430494, 0.08892519, 0.04611487, 0.13489307, 0.11108529,\n",
              "       0.26572693, 0.08846757, 0.27294956, 0.07875295, 0.021469  ,\n",
              "       0.0697008 , 0.18152506, 0.15874756, 0.25371028, 0.13944353,\n",
              "       0.07086146, 0.11686562, 0.0840439 , 0.17250547, 0.09927556,\n",
              "       0.22586921, 0.22586921, 0.22586921, 0.15657374, 0.17756814,\n",
              "       0.20581134, 0.19443973, 0.22586921, 0.15499087, 0.19874141,\n",
              "       0.22047677, 0.09044534, 0.16504183, 0.19579653, 0.18580025,\n",
              "       0.09879026, 0.02693141, 0.08743495, 0.22586921, 0.19913809,\n",
              "       0.22586921, 0.17492249, 0.08889091, 0.14660002, 0.22586921,\n",
              "       0.12481343, 0.13193941, 0.06972536, 0.15584797, 0.16801964,\n",
              "       0.08248215, 0.14066044, 0.06966754, 0.15903709, 0.23048032,\n",
              "       0.12677089, 0.16255554, 0.18033343, 0.07397749, 0.13499181,\n",
              "       0.16014685, 0.15197065, 0.26873298, 0.26873298, 0.14335909,\n",
              "       0.09447431, 0.03864012, 0.09605534, 0.07207564, 0.09418448,\n",
              "       0.14985926, 0.20383457, 0.10208801, 0.10791653, 0.0570301 ,\n",
              "       0.12747193, 0.13742745, 0.0674642 , 0.11504967, 0.05698281,\n",
              "       0.26873298, 0.26769581, 0.20346085, 0.17292331, 0.1042671 ,\n",
              "       0.01542799, 0.26873298, 0.26873298, 0.24334561, 0.27459917,\n",
              "       0.26542003, 0.09483962, 0.06249976, 0.02556248, 0.06354569,\n",
              "       0.04768185, 0.06230802, 0.09913983, 0.05185563, 0.08644575,\n",
              "       0.12288503, 0.07472736, 0.22091323, 0.2630809 , 0.18378112,\n",
              "       0.19542342, 0.0707094 , 0.27459917, 0.17709494, 0.13460012,\n",
              "       0.11439792, 0.0689782 , 0.01020643, 0.18027049, 0.237345  ,\n",
              "       0.160986  , 0.27459917, 0.01666182, 0.01571371, 0.01542119,\n",
              "       0.27459917, 0.16547458, 0.27459917, 0.27459917, 0.08602846])"
            ]
          },
          "execution_count": 31,
          "metadata": {},
          "output_type": "execute_result"
        }
      ],
      "source": [
        "X_train[0]"
      ]
    },
    {
      "cell_type": "markdown",
      "metadata": {
        "id": "c0p_58x9vxD1"
      },
      "source": [
        "# SCALE DATA"
      ]
    },
    {
      "cell_type": "code",
      "execution_count": 32,
      "metadata": {
        "id": "EDQLtJUZvxD1"
      },
      "outputs": [],
      "source": [
        "# Khởi tạo mô hình MinMaxScaler và fit trên tập huấn luyện\n",
        "scaler = MinMaxScaler()\n",
        "X_train_scaled = scaler.fit_transform(X_train)\n",
        "\n",
        "# Sử dụng mô hình đã fit để chuẩn hóa tập kiểm tra\n",
        "X_test_scaled = scaler.transform(X_test)"
      ]
    },
    {
      "cell_type": "markdown",
      "metadata": {
        "id": "rYR9eHokvxD2"
      },
      "source": [
        "# TRAIN"
      ]
    },
    {
      "cell_type": "code",
      "execution_count": 37,
      "metadata": {
        "colab": {
          "base_uri": "https://localhost:8080/"
        },
        "id": "QMys8wW3vxD2",
        "outputId": "0e8a7f59-14e5-4007-d227-0fa2a345888b"
      },
      "outputs": [
        {
          "name": "stdout",
          "output_type": "stream",
          "text": [
            "Accuracy: 0.3995061728395062\n"
          ]
        }
      ],
      "source": [
        "from sklearn.tree import DecisionTreeClassifier\n",
        "from sklearn.metrics import accuracy_score\n",
        "\n",
        "# Huấn luyện mô hình DecisionTree với các tham số cụ thể\n",
        "DecisionTree_model = DecisionTreeClassifier(criterion='gini', splitter='best', max_depth=5, min_samples_split=2, min_samples_leaf=1, min_weight_fraction_leaf=0.0, max_features=None, random_state=42, max_leaf_nodes=None, min_impurity_decrease=0.0, class_weight=None, ccp_alpha=0.0)\n",
        "\n",
        "DecisionTree_model.fit(X_train_scaled, y_train)\n",
        "\n",
        "# Dự đoán nhãn trên tập kiểm tra\n",
        "y_pred = DecisionTree_model.predict(X_test_scaled)\n",
        "\n",
        "# Đánh giá độ chính xác của mô hình\n",
        "accuracy = accuracy_score(y_test, y_pred)\n",
        "print(f'Accuracy: {accuracy}')\n"
      ]
    },
    {
      "cell_type": "markdown",
      "metadata": {
        "id": "_dcdmApOvxD3"
      },
      "source": [
        "# EVALUATE"
      ]
    },
    {
      "cell_type": "code",
      "execution_count": 38,
      "metadata": {
        "colab": {
          "base_uri": "https://localhost:8080/"
        },
        "id": "JUAG3pVMvxD3",
        "outputId": "2f4f6c2a-637c-4af2-e290-38e994bd5e24"
      },
      "outputs": [
        {
          "name": "stdout",
          "output_type": "stream",
          "text": [
            "Accuracy: 0.3995061728395062\n",
            "\n",
            "Class Angry:\n",
            "  Precision: 0.4360\n",
            "  Recall: 0.2919\n",
            "  F1-Score: 0.3497\n",
            "\n",
            "Class Fear:\n",
            "  Precision: 0.3319\n",
            "  Recall: 0.3739\n",
            "  F1-Score: 0.3516\n",
            "\n",
            "Class Happy:\n",
            "  Precision: 0.4712\n",
            "  Recall: 0.5618\n",
            "  F1-Score: 0.5125\n",
            "\n",
            "Class Neutral:\n",
            "  Precision: 0.4169\n",
            "  Recall: 0.4805\n",
            "  F1-Score: 0.4465\n",
            "\n",
            "Class Sad:\n",
            "  Precision: 0.3358\n",
            "  Recall: 0.2906\n",
            "  F1-Score: 0.3115\n",
            "\n",
            "Overall:\n",
            "  Precision: 0.3984\n",
            "  Recall: 0.3997\n",
            "  F1-Score: 0.3944\n"
          ]
        }
      ],
      "source": [
        "from sklearn.metrics import precision_score, recall_score, f1_score\n",
        "\n",
        "# Tính precision, recall, và f1-score cho từng lớp\n",
        "precision = precision_score(y_test, y_pred, average=None)\n",
        "recall = recall_score(y_test, y_pred, average=None)\n",
        "f1 = f1_score(y_test, y_pred, average=None)\n",
        "\n",
        "class_names = ['Angry', 'Fear', 'Happy', 'Neutral', 'Sad']\n",
        "\n",
        "# Đánh giá độ chính xác của mô hình\n",
        "accuracy = accuracy_score(y_test, y_pred)\n",
        "print(f'Accuracy: {accuracy}\\n')\n",
        "\n",
        "for i in range(len(class_names)):\n",
        "    print(f\"Class {class_names[i]}:\")\n",
        "    print(f\"  Precision: {precision[i]:.4f}\")\n",
        "    print(f\"  Recall: {recall[i]:.4f}\")\n",
        "    print(f\"  F1-Score: {f1[i]:.4f}\")\n",
        "    print()\n",
        "    \n",
        "# print onverall precision, recall, f1-score for each class\n",
        "print(f\"Overall:\")\n",
        "print(f\"  Precision: {precision.mean():.4f}\")\n",
        "print(f\"  Recall: {recall.mean():.4f}\")\n",
        "print(f\"  F1-Score: {f1.mean():.4f}\")\n"
      ]
    },
    {
      "cell_type": "markdown",
      "metadata": {
        "id": "8gDC1YnYvxD3"
      },
      "source": [
        "# SAVE MODEL"
      ]
    },
    {
      "cell_type": "code",
      "execution_count": 39,
      "metadata": {
        "colab": {
          "base_uri": "https://localhost:8080/"
        },
        "id": "gnc4Jz_NvxD4",
        "outputId": "b38bf40f-ed0c-4293-9f1e-0605d18732f0"
      },
      "outputs": [
        {
          "data": {
            "text/plain": [
              "['Model_DT.h5']"
            ]
          },
          "execution_count": 39,
          "metadata": {},
          "output_type": "execute_result"
        }
      ],
      "source": [
        "from joblib import dump\n",
        "dump(DecisionTree_model, 'Model_DT.h5')"
      ]
    },
    {
      "cell_type": "markdown",
      "metadata": {
        "id": "-56DmwmZvxD4"
      },
      "source": [
        "# Tune"
      ]
    },
    {
      "cell_type": "code",
      "execution_count": 36,
      "metadata": {
        "colab": {
          "base_uri": "https://localhost:8080/"
        },
        "id": "IpHWnXtHvxD4",
        "outputId": "16c9b122-6378-4711-fa65-2ac56288e246"
      },
      "outputs": [
        {
          "name": "stdout",
          "output_type": "stream",
          "text": [
            "Best Parameters: {'criterion': 'gini', 'max_depth': 5, 'min_samples_leaf': 1, 'min_samples_split': 2}\n",
            "Accuracy: 0.3995061728395062\n"
          ]
        }
      ],
      "source": [
        "from sklearn.model_selection import GridSearchCV\n",
        "from sklearn.tree import DecisionTreeClassifier\n",
        "from sklearn.metrics import accuracy_score\n",
        "\n",
        "# Thiết lập các giá trị thử nghiệm cho các tham số\n",
        "param_grid = {\n",
        "    'criterion': ['gini', 'entropy'],\n",
        "    'max_depth': [None, 2, 5, 10, 20],\n",
        "    'min_samples_split': [2, 5, 10],\n",
        "    'min_samples_leaf': [1, 2, 5]\n",
        "}\n",
        "\n",
        "# Tạo mô hình Decision Tree\n",
        "dt_model = DecisionTreeClassifier()\n",
        "\n",
        "# Sử dụng GridSearchCV để tìm kiếm qua lưới tham số\n",
        "grid_search = GridSearchCV(dt_model, param_grid, cv=5, scoring='accuracy')\n",
        "grid_search.fit(X_train_scaled, y_train)\n",
        "\n",
        "# In ra tham số tốt nhất\n",
        "print(\"Best Parameters:\", grid_search.best_params_)\n",
        "\n",
        "# Đánh giá mô hình trên tập kiểm tra\n",
        "y_pred = grid_search.predict(X_test_scaled)\n",
        "accuracy = accuracy_score(y_test, y_pred)\n",
        "print(f\"Accuracy: {accuracy}\")\n",
        "\n"
      ]
    }
  ],
  "metadata": {
    "colab": {
      "provenance": []
    },
    "kernelspec": {
      "display_name": "Python 3",
      "language": "python",
      "name": "python3"
    },
    "language_info": {
      "codemirror_mode": {
        "name": "ipython",
        "version": 3
      },
      "file_extension": ".py",
      "mimetype": "text/x-python",
      "name": "python",
      "nbconvert_exporter": "python",
      "pygments_lexer": "ipython3",
      "version": "3.11.9"
    }
  },
  "nbformat": 4,
  "nbformat_minor": 0
}
