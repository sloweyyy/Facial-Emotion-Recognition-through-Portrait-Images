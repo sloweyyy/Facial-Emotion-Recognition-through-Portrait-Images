{
 "cells": [
  {
   "cell_type": "markdown",
   "metadata": {},
   "source": [
    "# PRE-TRAIN"
   ]
  },
  {
   "cell_type": "markdown",
   "metadata": {},
   "source": [
    "## COVERT IMAGE TO CSV WITH HOG FEATURES"
   ]
  },
  {
   "cell_type": "code",
   "execution_count": 1,
   "metadata": {},
   "outputs": [],
   "source": [
    "import os\n",
    "import cv2\n",
    "import pandas as pd\n",
    "from skimage import feature\n",
    "\n",
    "def convert_images_to_csv_with_hog(folder_path, csv_filename, label_mapping, target_size=(48, 48), max_images=2700):\n",
    "    images = []\n",
    "    labels = []\n",
    "    hogs = []\n",
    "\n",
    "    label = label_mapping[os.path.basename(folder_path).lower()]\n",
    "    count = 0\n",
    "\n",
    "    for filename in os.listdir(folder_path):\n",
    "        if count >= max_images:\n",
    "            break  \n",
    "\n",
    "        path = os.path.join(folder_path, filename)\n",
    "        img = cv2.imread(path, cv2.IMREAD_GRAYSCALE)\n",
    "        if img is not None:\n",
    "            img = cv2.resize(img, target_size)\n",
    "            images.append(img.flatten())\n",
    "            labels.append(label)\n",
    "\n",
    "            # Tính toán đặc trưng HOG\n",
    "            hog_features = feature.hog(img, orientations=9, pixels_per_cell=(8, 8),\n",
    "                                       cells_per_block=(2, 2), block_norm='L2-Hys',\n",
    "                                       visualize=False, transform_sqrt=True)\n",
    "            #print(hog_features.shape)\n",
    "            hogs.append(hog_features)\n",
    "\n",
    "            count += 1  \n",
    "\n",
    "    # Tạo DataFrame cho hình ảnh và HOG\n",
    "    data = {'label': labels}\n",
    "    for j in range(len(hogs[0])):\n",
    "        data[f'hog_{j + 1}'] = [row[j] for row in hogs]\n",
    "\n",
    "    df = pd.DataFrame(data)\n",
    "    df.to_csv(csv_filename, index=False)\n",
    "\n",
    "if __name__ == \"__main__\":\n",
    "    labels_mapping = {\n",
    "        \"angry\": 0,\n",
    "        \"fear\": 1,\n",
    "        \"happy\": 2,\n",
    "        \"neutral\": 3,\n",
    "        \"sad\": 4\n",
    "    }\n",
    "\n",
    "    images_folder = \"processed_image\"\n",
    "    output_folder = \"csv_with_hog\"\n",
    "\n",
    "    if not os.path.exists(output_folder):\n",
    "        os.makedirs(output_folder)\n",
    "\n",
    "    for label_name in labels_mapping.keys():\n",
    "        folder_path = os.path.join(images_folder, label_name.capitalize())\n",
    "        csv_filename = os.path.join(output_folder, f\"{label_name.lower()}.csv\")\n",
    "        convert_images_to_csv_with_hog(folder_path, csv_filename, labels_mapping)"
   ]
  },
  {
   "cell_type": "markdown",
   "metadata": {},
   "source": [
    "## GATHER ALL CSV FILES INTO A FILE"
   ]
  },
  {
   "cell_type": "code",
   "execution_count": 2,
   "metadata": {},
   "outputs": [],
   "source": [
    "import pandas as pd\n",
    "import glob\n",
    "\n",
    "folder_path = 'csv_with_hog'\n",
    "\n",
    "all_files = glob.glob(folder_path + \"/*.csv\")\n",
    "\n",
    "dfs = []\n",
    "\n",
    "for file in all_files:\n",
    "    df = pd.read_csv(file)\n",
    "    dfs.append(df)\n",
    "\n",
    "merged_df = pd.concat(dfs, ignore_index=True)\n",
    "\n",
    "merged_df.to_csv('dataset_with_hog.csv', index=False)\n"
   ]
  }
 ],
 "metadata": {
  "kernelspec": {
   "display_name": "Python 3",
   "language": "python",
   "name": "python3"
  },
  "language_info": {
   "codemirror_mode": {
    "name": "ipython",
    "version": 3
   },
   "file_extension": ".py",
   "mimetype": "text/x-python",
   "name": "python",
   "nbconvert_exporter": "python",
   "pygments_lexer": "ipython3",
   "version": "3.11.9"
  }
 },
 "nbformat": 4,
 "nbformat_minor": 2
}
